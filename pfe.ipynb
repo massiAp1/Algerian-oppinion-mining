{
  "cells": [
    {
      "cell_type": "markdown",
      "metadata": {
        "id": "DKckJtxFKPBa"
      },
      "source": [
        "## PIP Install\n"
      ]
    },
    {
      "cell_type": "code",
      "execution_count": null,
      "metadata": {
        "colab": {
          "base_uri": "https://localhost:8080/"
        },
        "id": "RatcsFc0lh4z",
        "outputId": "86180e71-f804-424a-9bb9-de8277b5a4bc"
      },
      "outputs": [
        {
          "name": "stdout",
          "output_type": "stream",
          "text": [
            "Looking in indexes: https://pypi.org/simple, https://us-python.pkg.dev/colab-wheels/public/simple/\n",
            "Requirement already satisfied: py2app in /usr/local/lib/python3.7/dist-packages (0.28.2)\n",
            "Requirement already satisfied: modulegraph>=0.17 in /usr/local/lib/python3.7/dist-packages (from py2app) (0.19.2)\n",
            "Requirement already satisfied: altgraph>=0.16 in /usr/local/lib/python3.7/dist-packages (from py2app) (0.17.2)\n",
            "Requirement already satisfied: macholib>=1.16 in /usr/local/lib/python3.7/dist-packages (from py2app) (1.16)\n",
            "Requirement already satisfied: setuptools in /usr/local/lib/python3.7/dist-packages (from modulegraph>=0.17->py2app) (57.4.0)\n"
          ]
        }
      ],
      "source": [
        "pip install py2app"
      ]
    },
    {
      "cell_type": "code",
      "execution_count": null,
      "metadata": {
        "colab": {
          "base_uri": "https://localhost:8080/"
        },
        "id": "8eOlfHaijvJC",
        "outputId": "d493fe93-1d4a-43cb-8ead-da21376b68d8"
      },
      "outputs": [
        {
          "name": "stdout",
          "output_type": "stream",
          "text": [
            "Looking in indexes: https://pypi.org/simple, https://us-python.pkg.dev/colab-wheels/public/simple/\n",
            "Requirement already satisfied: pandas in /usr/local/lib/python3.7/dist-packages (0.24.2)\n",
            "Requirement already satisfied: pytz>=2011k in /usr/local/lib/python3.7/dist-packages (from pandas) (2022.1)\n",
            "Requirement already satisfied: python-dateutil>=2.5.0 in /usr/local/lib/python3.7/dist-packages (from pandas) (2.8.2)\n",
            "Requirement already satisfied: numpy>=1.12.0 in /usr/local/lib/python3.7/dist-packages (from pandas) (1.21.6)\n",
            "Requirement already satisfied: six>=1.5 in /usr/local/lib/python3.7/dist-packages (from python-dateutil>=2.5.0->pandas) (1.15.0)\n"
          ]
        }
      ],
      "source": [
        "pip install pandas"
      ]
    },
    {
      "cell_type": "code",
      "execution_count": 88,
      "metadata": {
        "colab": {
          "base_uri": "https://localhost:8080/",
          "height": 471
        },
        "id": "9iLm5MqjnAPq",
        "outputId": "2b0c303d-0fe4-4732-866b-433a79cf5e9e"
      },
      "outputs": [
        {
          "output_type": "stream",
          "name": "stdout",
          "text": [
            "Looking in indexes: https://pypi.org/simple, https://us-python.pkg.dev/colab-wheels/public/simple/\n",
            "Collecting pandas<0.25.0\n",
            "  Downloading pandas-0.24.2-cp37-cp37m-manylinux1_x86_64.whl (10.1 MB)\n",
            "\u001b[K     |████████████████████████████████| 10.1 MB 5.2 MB/s \n",
            "\u001b[?25hRequirement already satisfied: python-dateutil>=2.5.0 in /usr/local/lib/python3.7/dist-packages (from pandas<0.25.0) (2.8.2)\n",
            "Requirement already satisfied: pytz>=2011k in /usr/local/lib/python3.7/dist-packages (from pandas<0.25.0) (2022.1)\n",
            "Requirement already satisfied: numpy>=1.12.0 in /usr/local/lib/python3.7/dist-packages (from pandas<0.25.0) (1.21.6)\n",
            "Requirement already satisfied: six>=1.5 in /usr/local/lib/python3.7/dist-packages (from python-dateutil>=2.5.0->pandas<0.25.0) (1.15.0)\n",
            "Installing collected packages: pandas\n",
            "  Attempting uninstall: pandas\n",
            "    Found existing installation: pandas 1.3.5\n",
            "    Uninstalling pandas-1.3.5:\n",
            "      Successfully uninstalled pandas-1.3.5\n",
            "\u001b[31mERROR: pip's dependency resolver does not currently take into account all the packages that are installed. This behaviour is the source of the following dependency conflicts.\n",
            "xarray 0.20.2 requires pandas>=1.1, but you have pandas 0.24.2 which is incompatible.\n",
            "plotnine 0.6.0 requires pandas>=0.25.0, but you have pandas 0.24.2 which is incompatible.\n",
            "mizani 0.6.0 requires pandas>=0.25.0, but you have pandas 0.24.2 which is incompatible.\n",
            "google-colab 1.0.0 requires pandas>=1.1.0; python_version >= \"3.0\", but you have pandas 0.24.2 which is incompatible.\n",
            "fbprophet 0.7.1 requires pandas>=1.0.4, but you have pandas 0.24.2 which is incompatible.\u001b[0m\n",
            "Successfully installed pandas-0.24.2\n"
          ]
        },
        {
          "output_type": "display_data",
          "data": {
            "application/vnd.colab-display-data+json": {
              "pip_warning": {
                "packages": [
                  "pandas"
                ]
              }
            }
          },
          "metadata": {}
        }
      ],
      "source": [
        "pip install \"pandas<0.25.0\""
      ]
    },
    {
      "cell_type": "markdown",
      "metadata": {
        "id": "HUBIoBo7eKhR"
      },
      "source": [
        " ## Importing basic libraries"
      ]
    },
    {
      "cell_type": "code",
      "execution_count": 1,
      "metadata": {
        "colab": {
          "base_uri": "https://localhost:8080/"
        },
        "id": "7vxJM_xseO66",
        "outputId": "30bdf8fa-eb38-4afa-f32e-ae818544c0d4"
      },
      "outputs": [
        {
          "output_type": "stream",
          "name": "stderr",
          "text": [
            "[nltk_data] Downloading package wordnet to /root/nltk_data...\n",
            "[nltk_data]   Unzipping corpora/wordnet.zip.\n",
            "[nltk_data] Downloading package stopwords to /root/nltk_data...\n",
            "[nltk_data]   Unzipping corpora/stopwords.zip.\n",
            "[nltk_data] Downloading package punkt to /root/nltk_data...\n",
            "[nltk_data]   Unzipping tokenizers/punkt.zip.\n"
          ]
        },
        {
          "output_type": "execute_result",
          "data": {
            "text/plain": [
              "True"
            ]
          },
          "metadata": {},
          "execution_count": 1
        }
      ],
      "source": [
        "import numpy as np\n",
        "import matplotlib.pyplot as plt\n",
        "import pandas as pd\n",
        "import re\n",
        "import nltk\n",
        "import pickle\n",
        "from nltk.corpus import stopwords\n",
        "from nltk.stem.porter import PorterStemmer\n",
        "from sklearn.feature_extraction.text import CountVectorizer\n",
        "from sklearn.model_selection import train_test_split\n",
        "from sklearn.naive_bayes import GaussianNB\n",
        "from sklearn.metrics import confusion_matrix\n",
        "from sklearn.tree import DecisionTreeClassifier\n",
        "from sklearn.ensemble import RandomForestClassifier\n",
        "from sklearn.linear_model import LogisticRegression\n",
        "from sklearn.decomposition import PCA\n",
        "from sklearn.decomposition import SparsePCA\n",
        "from nltk.stem.isri import ISRIStemmer\n",
        "from sklearn.metrics import accuracy_score\n",
        "import pandas_datareader as pdr\n",
        "\n",
        "nltk.download('wordnet')\n",
        "nltk.download('stopwords')\n",
        "nltk.download(\"punkt\")"
      ]
    },
    {
      "cell_type": "markdown",
      "metadata": {
        "id": "ZTB7uvMVPtMs"
      },
      "source": [
        "## import data"
      ]
    },
    {
      "cell_type": "code",
      "execution_count": 2,
      "metadata": {
        "colab": {
          "base_uri": "https://localhost:8080/"
        },
        "id": "rX6oDf1QZmjA",
        "outputId": "3e3b593a-647d-4491-8b22-6062be9d681d"
      },
      "outputs": [
        {
          "output_type": "stream",
          "name": "stdout",
          "text": [
            "Mounted at /content/drive\n"
          ]
        }
      ],
      "source": [
        "from google.colab import drive\n",
        "drive.mount('/content/drive')"
      ]
    },
    {
      "cell_type": "code",
      "execution_count": 3,
      "metadata": {
        "id": "yZKJMZxzPEbj"
      },
      "outputs": [],
      "source": [
        "#return text file to a list \n",
        "def get_stopping_words(f='/content/drive/MyDrive/data pour projet /algerian_arabic_stopwords .txt'):\n",
        "    with open(f, encoding='utf-8') as file:\n",
        "        stopping_words = file.read().split(\"\\n\")\n",
        "    return stopping_words"
      ]
    },
    {
      "cell_type": "code",
      "execution_count": 4,
      "metadata": {
        "id": "JhAyjDDyPGb-"
      },
      "outputs": [],
      "source": [
        "Alg_stop_words = get_stopping_words()\n"
      ]
    },
    {
      "cell_type": "code",
      "execution_count": 5,
      "metadata": {
        "id": "0U3Dgse7Anl6"
      },
      "outputs": [],
      "source": [
        "#data = pd.read_excel('/content/drive/MyDrive/data pour projet /CorpusAlgerien(1).xlsx')\n",
        "#data.head(5)"
      ]
    },
    {
      "cell_type": "code",
      "execution_count": 6,
      "metadata": {
        "colab": {
          "base_uri": "https://localhost:8080/",
          "height": 0
        },
        "id": "oYFTYqGOPYui",
        "outputId": "4a15bc4b-60a4-4831-d08d-f3862b03d81d"
      },
      "outputs": [
        {
          "output_type": "execute_result",
          "data": {
            "text/plain": [
              "                                             comment  pol      Topic\n",
              "0                    وعلاه خايفين تقعدو فيها وحدكم 😁    1  politique\n",
              "1                                 😎 ربي يعاون الرجال    1    sociale\n",
              "2  جيبوها من لخر     قبايل   و كلكم تعرفو شكون هو...    1    sociale\n",
              "3     علاه راهم يحرڤو 🤔ستناو دزاير الجديدة راهي جاية    1  politique\n",
              "4  الله يعاونكم انا شاء الله وهنيكم من المسؤلين ا...    1  politique"
            ],
            "text/html": [
              "\n",
              "  <div id=\"df-f79eabf5-502c-4f43-9736-5b88a383b7cb\">\n",
              "    <div class=\"colab-df-container\">\n",
              "      <div>\n",
              "<style scoped>\n",
              "    .dataframe tbody tr th:only-of-type {\n",
              "        vertical-align: middle;\n",
              "    }\n",
              "\n",
              "    .dataframe tbody tr th {\n",
              "        vertical-align: top;\n",
              "    }\n",
              "\n",
              "    .dataframe thead th {\n",
              "        text-align: right;\n",
              "    }\n",
              "</style>\n",
              "<table border=\"1\" class=\"dataframe\">\n",
              "  <thead>\n",
              "    <tr style=\"text-align: right;\">\n",
              "      <th></th>\n",
              "      <th>comment</th>\n",
              "      <th>pol</th>\n",
              "      <th>Topic</th>\n",
              "    </tr>\n",
              "  </thead>\n",
              "  <tbody>\n",
              "    <tr>\n",
              "      <th>0</th>\n",
              "      <td>وعلاه خايفين تقعدو فيها وحدكم 😁</td>\n",
              "      <td>1</td>\n",
              "      <td>politique</td>\n",
              "    </tr>\n",
              "    <tr>\n",
              "      <th>1</th>\n",
              "      <td>😎 ربي يعاون الرجال</td>\n",
              "      <td>1</td>\n",
              "      <td>sociale</td>\n",
              "    </tr>\n",
              "    <tr>\n",
              "      <th>2</th>\n",
              "      <td>جيبوها من لخر     قبايل   و كلكم تعرفو شكون هو...</td>\n",
              "      <td>1</td>\n",
              "      <td>sociale</td>\n",
              "    </tr>\n",
              "    <tr>\n",
              "      <th>3</th>\n",
              "      <td>علاه راهم يحرڤو 🤔ستناو دزاير الجديدة راهي جاية</td>\n",
              "      <td>1</td>\n",
              "      <td>politique</td>\n",
              "    </tr>\n",
              "    <tr>\n",
              "      <th>4</th>\n",
              "      <td>الله يعاونكم انا شاء الله وهنيكم من المسؤلين ا...</td>\n",
              "      <td>1</td>\n",
              "      <td>politique</td>\n",
              "    </tr>\n",
              "  </tbody>\n",
              "</table>\n",
              "</div>\n",
              "      <button class=\"colab-df-convert\" onclick=\"convertToInteractive('df-f79eabf5-502c-4f43-9736-5b88a383b7cb')\"\n",
              "              title=\"Convert this dataframe to an interactive table.\"\n",
              "              style=\"display:none;\">\n",
              "        \n",
              "  <svg xmlns=\"http://www.w3.org/2000/svg\" height=\"24px\"viewBox=\"0 0 24 24\"\n",
              "       width=\"24px\">\n",
              "    <path d=\"M0 0h24v24H0V0z\" fill=\"none\"/>\n",
              "    <path d=\"M18.56 5.44l.94 2.06.94-2.06 2.06-.94-2.06-.94-.94-2.06-.94 2.06-2.06.94zm-11 1L8.5 8.5l.94-2.06 2.06-.94-2.06-.94L8.5 2.5l-.94 2.06-2.06.94zm10 10l.94 2.06.94-2.06 2.06-.94-2.06-.94-.94-2.06-.94 2.06-2.06.94z\"/><path d=\"M17.41 7.96l-1.37-1.37c-.4-.4-.92-.59-1.43-.59-.52 0-1.04.2-1.43.59L10.3 9.45l-7.72 7.72c-.78.78-.78 2.05 0 2.83L4 21.41c.39.39.9.59 1.41.59.51 0 1.02-.2 1.41-.59l7.78-7.78 2.81-2.81c.8-.78.8-2.07 0-2.86zM5.41 20L4 18.59l7.72-7.72 1.47 1.35L5.41 20z\"/>\n",
              "  </svg>\n",
              "      </button>\n",
              "      \n",
              "  <style>\n",
              "    .colab-df-container {\n",
              "      display:flex;\n",
              "      flex-wrap:wrap;\n",
              "      gap: 12px;\n",
              "    }\n",
              "\n",
              "    .colab-df-convert {\n",
              "      background-color: #E8F0FE;\n",
              "      border: none;\n",
              "      border-radius: 50%;\n",
              "      cursor: pointer;\n",
              "      display: none;\n",
              "      fill: #1967D2;\n",
              "      height: 32px;\n",
              "      padding: 0 0 0 0;\n",
              "      width: 32px;\n",
              "    }\n",
              "\n",
              "    .colab-df-convert:hover {\n",
              "      background-color: #E2EBFA;\n",
              "      box-shadow: 0px 1px 2px rgba(60, 64, 67, 0.3), 0px 1px 3px 1px rgba(60, 64, 67, 0.15);\n",
              "      fill: #174EA6;\n",
              "    }\n",
              "\n",
              "    [theme=dark] .colab-df-convert {\n",
              "      background-color: #3B4455;\n",
              "      fill: #D2E3FC;\n",
              "    }\n",
              "\n",
              "    [theme=dark] .colab-df-convert:hover {\n",
              "      background-color: #434B5C;\n",
              "      box-shadow: 0px 1px 3px 1px rgba(0, 0, 0, 0.15);\n",
              "      filter: drop-shadow(0px 1px 2px rgba(0, 0, 0, 0.3));\n",
              "      fill: #FFFFFF;\n",
              "    }\n",
              "  </style>\n",
              "\n",
              "      <script>\n",
              "        const buttonEl =\n",
              "          document.querySelector('#df-f79eabf5-502c-4f43-9736-5b88a383b7cb button.colab-df-convert');\n",
              "        buttonEl.style.display =\n",
              "          google.colab.kernel.accessAllowed ? 'block' : 'none';\n",
              "\n",
              "        async function convertToInteractive(key) {\n",
              "          const element = document.querySelector('#df-f79eabf5-502c-4f43-9736-5b88a383b7cb');\n",
              "          const dataTable =\n",
              "            await google.colab.kernel.invokeFunction('convertToInteractive',\n",
              "                                                     [key], {});\n",
              "          if (!dataTable) return;\n",
              "\n",
              "          const docLinkHtml = 'Like what you see? Visit the ' +\n",
              "            '<a target=\"_blank\" href=https://colab.research.google.com/notebooks/data_table.ipynb>data table notebook</a>'\n",
              "            + ' to learn more about interactive tables.';\n",
              "          element.innerHTML = '';\n",
              "          dataTable['output_type'] = 'display_data';\n",
              "          await google.colab.output.renderOutput(dataTable, element);\n",
              "          const docLink = document.createElement('div');\n",
              "          docLink.innerHTML = docLinkHtml;\n",
              "          element.appendChild(docLink);\n",
              "        }\n",
              "      </script>\n",
              "    </div>\n",
              "  </div>\n",
              "  "
            ]
          },
          "metadata": {},
          "execution_count": 6
        }
      ],
      "source": [
        "import pandas as pd\n",
        "# Read the data. Here it is already in .csv format.\n",
        "data = pd.read_csv('/content/drive/MyDrive/data pour projet /Total-dataset.csv')\n",
        "data.head(5)"
      ]
    },
    {
      "cell_type": "markdown",
      "metadata": {
        "id": "i4W4P69ib-vG"
      },
      "source": [
        "##Text preprocessing"
      ]
    },
    {
      "cell_type": "code",
      "execution_count": 7,
      "metadata": {
        "id": "slVuKOTRYh7f"
      },
      "outputs": [],
      "source": [
        "#Remove diacritics\n",
        "def remove_d(string):\n",
        "    regex = re.compile(r'[\\u064B\\u064C\\u064D\\u064E\\u064F\\u0650\\u0651\\u0652]')\n",
        "    return re.sub(regex, '', string)"
      ]
    },
    {
      "cell_type": "code",
      "execution_count": 8,
      "metadata": {
        "colab": {
          "base_uri": "https://localhost:8080/",
          "height": 0
        },
        "id": "B55ennvkZEJA",
        "outputId": "98bc72bc-29f9-4b3f-f3ee-d1144c9a3848"
      },
      "outputs": [
        {
          "output_type": "execute_result",
          "data": {
            "text/plain": [
              "                                             comment  pol      Topic  \\\n",
              "0                    وعلاه خايفين تقعدو فيها وحدكم 😁    1  politique   \n",
              "1                                 😎 ربي يعاون الرجال    1    sociale   \n",
              "2  جيبوها من لخر     قبايل   و كلكم تعرفو شكون هو...    1    sociale   \n",
              "3     علاه راهم يحرڤو 🤔ستناو دزاير الجديدة راهي جاية    1  politique   \n",
              "4  الله يعاونكم انا شاء الله وهنيكم من المسؤلين ا...    1  politique   \n",
              "\n",
              "                                          diacritics  \n",
              "0                    وعلاه خايفين تقعدو فيها وحدكم 😁  \n",
              "1                                 😎 ربي يعاون الرجال  \n",
              "2  جيبوها من لخر     قبايل   و كلكم تعرفو شكون هو...  \n",
              "3     علاه راهم يحرڤو 🤔ستناو دزاير الجديدة راهي جاية  \n",
              "4  الله يعاونكم انا شاء الله وهنيكم من المسؤلين ا...  "
            ],
            "text/html": [
              "\n",
              "  <div id=\"df-f043d74c-208c-4195-b3d6-c8bbe6e084ca\">\n",
              "    <div class=\"colab-df-container\">\n",
              "      <div>\n",
              "<style scoped>\n",
              "    .dataframe tbody tr th:only-of-type {\n",
              "        vertical-align: middle;\n",
              "    }\n",
              "\n",
              "    .dataframe tbody tr th {\n",
              "        vertical-align: top;\n",
              "    }\n",
              "\n",
              "    .dataframe thead th {\n",
              "        text-align: right;\n",
              "    }\n",
              "</style>\n",
              "<table border=\"1\" class=\"dataframe\">\n",
              "  <thead>\n",
              "    <tr style=\"text-align: right;\">\n",
              "      <th></th>\n",
              "      <th>comment</th>\n",
              "      <th>pol</th>\n",
              "      <th>Topic</th>\n",
              "      <th>diacritics</th>\n",
              "    </tr>\n",
              "  </thead>\n",
              "  <tbody>\n",
              "    <tr>\n",
              "      <th>0</th>\n",
              "      <td>وعلاه خايفين تقعدو فيها وحدكم 😁</td>\n",
              "      <td>1</td>\n",
              "      <td>politique</td>\n",
              "      <td>وعلاه خايفين تقعدو فيها وحدكم 😁</td>\n",
              "    </tr>\n",
              "    <tr>\n",
              "      <th>1</th>\n",
              "      <td>😎 ربي يعاون الرجال</td>\n",
              "      <td>1</td>\n",
              "      <td>sociale</td>\n",
              "      <td>😎 ربي يعاون الرجال</td>\n",
              "    </tr>\n",
              "    <tr>\n",
              "      <th>2</th>\n",
              "      <td>جيبوها من لخر     قبايل   و كلكم تعرفو شكون هو...</td>\n",
              "      <td>1</td>\n",
              "      <td>sociale</td>\n",
              "      <td>جيبوها من لخر     قبايل   و كلكم تعرفو شكون هو...</td>\n",
              "    </tr>\n",
              "    <tr>\n",
              "      <th>3</th>\n",
              "      <td>علاه راهم يحرڤو 🤔ستناو دزاير الجديدة راهي جاية</td>\n",
              "      <td>1</td>\n",
              "      <td>politique</td>\n",
              "      <td>علاه راهم يحرڤو 🤔ستناو دزاير الجديدة راهي جاية</td>\n",
              "    </tr>\n",
              "    <tr>\n",
              "      <th>4</th>\n",
              "      <td>الله يعاونكم انا شاء الله وهنيكم من المسؤلين ا...</td>\n",
              "      <td>1</td>\n",
              "      <td>politique</td>\n",
              "      <td>الله يعاونكم انا شاء الله وهنيكم من المسؤلين ا...</td>\n",
              "    </tr>\n",
              "  </tbody>\n",
              "</table>\n",
              "</div>\n",
              "      <button class=\"colab-df-convert\" onclick=\"convertToInteractive('df-f043d74c-208c-4195-b3d6-c8bbe6e084ca')\"\n",
              "              title=\"Convert this dataframe to an interactive table.\"\n",
              "              style=\"display:none;\">\n",
              "        \n",
              "  <svg xmlns=\"http://www.w3.org/2000/svg\" height=\"24px\"viewBox=\"0 0 24 24\"\n",
              "       width=\"24px\">\n",
              "    <path d=\"M0 0h24v24H0V0z\" fill=\"none\"/>\n",
              "    <path d=\"M18.56 5.44l.94 2.06.94-2.06 2.06-.94-2.06-.94-.94-2.06-.94 2.06-2.06.94zm-11 1L8.5 8.5l.94-2.06 2.06-.94-2.06-.94L8.5 2.5l-.94 2.06-2.06.94zm10 10l.94 2.06.94-2.06 2.06-.94-2.06-.94-.94-2.06-.94 2.06-2.06.94z\"/><path d=\"M17.41 7.96l-1.37-1.37c-.4-.4-.92-.59-1.43-.59-.52 0-1.04.2-1.43.59L10.3 9.45l-7.72 7.72c-.78.78-.78 2.05 0 2.83L4 21.41c.39.39.9.59 1.41.59.51 0 1.02-.2 1.41-.59l7.78-7.78 2.81-2.81c.8-.78.8-2.07 0-2.86zM5.41 20L4 18.59l7.72-7.72 1.47 1.35L5.41 20z\"/>\n",
              "  </svg>\n",
              "      </button>\n",
              "      \n",
              "  <style>\n",
              "    .colab-df-container {\n",
              "      display:flex;\n",
              "      flex-wrap:wrap;\n",
              "      gap: 12px;\n",
              "    }\n",
              "\n",
              "    .colab-df-convert {\n",
              "      background-color: #E8F0FE;\n",
              "      border: none;\n",
              "      border-radius: 50%;\n",
              "      cursor: pointer;\n",
              "      display: none;\n",
              "      fill: #1967D2;\n",
              "      height: 32px;\n",
              "      padding: 0 0 0 0;\n",
              "      width: 32px;\n",
              "    }\n",
              "\n",
              "    .colab-df-convert:hover {\n",
              "      background-color: #E2EBFA;\n",
              "      box-shadow: 0px 1px 2px rgba(60, 64, 67, 0.3), 0px 1px 3px 1px rgba(60, 64, 67, 0.15);\n",
              "      fill: #174EA6;\n",
              "    }\n",
              "\n",
              "    [theme=dark] .colab-df-convert {\n",
              "      background-color: #3B4455;\n",
              "      fill: #D2E3FC;\n",
              "    }\n",
              "\n",
              "    [theme=dark] .colab-df-convert:hover {\n",
              "      background-color: #434B5C;\n",
              "      box-shadow: 0px 1px 3px 1px rgba(0, 0, 0, 0.15);\n",
              "      filter: drop-shadow(0px 1px 2px rgba(0, 0, 0, 0.3));\n",
              "      fill: #FFFFFF;\n",
              "    }\n",
              "  </style>\n",
              "\n",
              "      <script>\n",
              "        const buttonEl =\n",
              "          document.querySelector('#df-f043d74c-208c-4195-b3d6-c8bbe6e084ca button.colab-df-convert');\n",
              "        buttonEl.style.display =\n",
              "          google.colab.kernel.accessAllowed ? 'block' : 'none';\n",
              "\n",
              "        async function convertToInteractive(key) {\n",
              "          const element = document.querySelector('#df-f043d74c-208c-4195-b3d6-c8bbe6e084ca');\n",
              "          const dataTable =\n",
              "            await google.colab.kernel.invokeFunction('convertToInteractive',\n",
              "                                                     [key], {});\n",
              "          if (!dataTable) return;\n",
              "\n",
              "          const docLinkHtml = 'Like what you see? Visit the ' +\n",
              "            '<a target=\"_blank\" href=https://colab.research.google.com/notebooks/data_table.ipynb>data table notebook</a>'\n",
              "            + ' to learn more about interactive tables.';\n",
              "          element.innerHTML = '';\n",
              "          dataTable['output_type'] = 'display_data';\n",
              "          await google.colab.output.renderOutput(dataTable, element);\n",
              "          const docLink = document.createElement('div');\n",
              "          docLink.innerHTML = docLinkHtml;\n",
              "          element.appendChild(docLink);\n",
              "        }\n",
              "      </script>\n",
              "    </div>\n",
              "  </div>\n",
              "  "
            ]
          },
          "metadata": {},
          "execution_count": 8
        }
      ],
      "source": [
        "data['diacritics'] = data['comment'].apply(str).apply(remove_d)\n",
        "data.head(5)"
      ]
    },
    {
      "cell_type": "code",
      "execution_count": 9,
      "metadata": {
        "id": "_X4Ka-oSYh3C"
      },
      "outputs": [],
      "source": [
        "#normalization\n",
        "def normalize(string):\n",
        "    regex = re.compile(r'[إأٱآا]')\n",
        "    string = re.sub(regex, 'ا', string)\n",
        "    regex = re.compile(r'[ى]')\n",
        "    string = re.sub(regex, 'ي', string)\n",
        "    regex = re.compile(r'[ؤئ]')\n",
        "    string = re.sub(regex, 'ء', string)\n",
        "    regex = re.compile(r'ه+ه')\n",
        "    string = re.sub(regex, 'ههه', string)\n",
        "    regex = re.compile(r'و+و')\n",
        "    string = re.sub(regex, 'و', string)\n",
        "    return string"
      ]
    },
    {
      "cell_type": "code",
      "execution_count": 10,
      "metadata": {
        "colab": {
          "base_uri": "https://localhost:8080/",
          "height": 0
        },
        "id": "UAu5PuERZDpB",
        "outputId": "ca8b2138-722f-45f3-abc9-0da443d3c8a6"
      },
      "outputs": [
        {
          "output_type": "execute_result",
          "data": {
            "text/plain": [
              "                                             comment  pol      Topic  \\\n",
              "0                    وعلاه خايفين تقعدو فيها وحدكم 😁    1  politique   \n",
              "1                                 😎 ربي يعاون الرجال    1    sociale   \n",
              "2  جيبوها من لخر     قبايل   و كلكم تعرفو شكون هو...    1    sociale   \n",
              "3     علاه راهم يحرڤو 🤔ستناو دزاير الجديدة راهي جاية    1  politique   \n",
              "4  الله يعاونكم انا شاء الله وهنيكم من المسؤلين ا...    1  politique   \n",
              "\n",
              "                                          diacritics  \\\n",
              "0                    وعلاه خايفين تقعدو فيها وحدكم 😁   \n",
              "1                                 😎 ربي يعاون الرجال   \n",
              "2  جيبوها من لخر     قبايل   و كلكم تعرفو شكون هو...   \n",
              "3     علاه راهم يحرڤو 🤔ستناو دزاير الجديدة راهي جاية   \n",
              "4  الله يعاونكم انا شاء الله وهنيكم من المسؤلين ا...   \n",
              "\n",
              "                                          normalized  \n",
              "0                    وعلاه خايفين تقعدو فيها وحدكم 😁  \n",
              "1                                 😎 ربي يعاون الرجال  \n",
              "2  جيبوها من لخر     قبايل   و كلكم تعرفو شكون هو...  \n",
              "3     علاه راهم يحرڤو 🤔ستناو دزاير الجديدة راهي جاية  \n",
              "4  الله يعاونكم انا شاء الله وهنيكم من المسءلين ا...  "
            ],
            "text/html": [
              "\n",
              "  <div id=\"df-e8f236a8-2965-4379-a4a1-c460a8d004a2\">\n",
              "    <div class=\"colab-df-container\">\n",
              "      <div>\n",
              "<style scoped>\n",
              "    .dataframe tbody tr th:only-of-type {\n",
              "        vertical-align: middle;\n",
              "    }\n",
              "\n",
              "    .dataframe tbody tr th {\n",
              "        vertical-align: top;\n",
              "    }\n",
              "\n",
              "    .dataframe thead th {\n",
              "        text-align: right;\n",
              "    }\n",
              "</style>\n",
              "<table border=\"1\" class=\"dataframe\">\n",
              "  <thead>\n",
              "    <tr style=\"text-align: right;\">\n",
              "      <th></th>\n",
              "      <th>comment</th>\n",
              "      <th>pol</th>\n",
              "      <th>Topic</th>\n",
              "      <th>diacritics</th>\n",
              "      <th>normalized</th>\n",
              "    </tr>\n",
              "  </thead>\n",
              "  <tbody>\n",
              "    <tr>\n",
              "      <th>0</th>\n",
              "      <td>وعلاه خايفين تقعدو فيها وحدكم 😁</td>\n",
              "      <td>1</td>\n",
              "      <td>politique</td>\n",
              "      <td>وعلاه خايفين تقعدو فيها وحدكم 😁</td>\n",
              "      <td>وعلاه خايفين تقعدو فيها وحدكم 😁</td>\n",
              "    </tr>\n",
              "    <tr>\n",
              "      <th>1</th>\n",
              "      <td>😎 ربي يعاون الرجال</td>\n",
              "      <td>1</td>\n",
              "      <td>sociale</td>\n",
              "      <td>😎 ربي يعاون الرجال</td>\n",
              "      <td>😎 ربي يعاون الرجال</td>\n",
              "    </tr>\n",
              "    <tr>\n",
              "      <th>2</th>\n",
              "      <td>جيبوها من لخر     قبايل   و كلكم تعرفو شكون هو...</td>\n",
              "      <td>1</td>\n",
              "      <td>sociale</td>\n",
              "      <td>جيبوها من لخر     قبايل   و كلكم تعرفو شكون هو...</td>\n",
              "      <td>جيبوها من لخر     قبايل   و كلكم تعرفو شكون هو...</td>\n",
              "    </tr>\n",
              "    <tr>\n",
              "      <th>3</th>\n",
              "      <td>علاه راهم يحرڤو 🤔ستناو دزاير الجديدة راهي جاية</td>\n",
              "      <td>1</td>\n",
              "      <td>politique</td>\n",
              "      <td>علاه راهم يحرڤو 🤔ستناو دزاير الجديدة راهي جاية</td>\n",
              "      <td>علاه راهم يحرڤو 🤔ستناو دزاير الجديدة راهي جاية</td>\n",
              "    </tr>\n",
              "    <tr>\n",
              "      <th>4</th>\n",
              "      <td>الله يعاونكم انا شاء الله وهنيكم من المسؤلين ا...</td>\n",
              "      <td>1</td>\n",
              "      <td>politique</td>\n",
              "      <td>الله يعاونكم انا شاء الله وهنيكم من المسؤلين ا...</td>\n",
              "      <td>الله يعاونكم انا شاء الله وهنيكم من المسءلين ا...</td>\n",
              "    </tr>\n",
              "  </tbody>\n",
              "</table>\n",
              "</div>\n",
              "      <button class=\"colab-df-convert\" onclick=\"convertToInteractive('df-e8f236a8-2965-4379-a4a1-c460a8d004a2')\"\n",
              "              title=\"Convert this dataframe to an interactive table.\"\n",
              "              style=\"display:none;\">\n",
              "        \n",
              "  <svg xmlns=\"http://www.w3.org/2000/svg\" height=\"24px\"viewBox=\"0 0 24 24\"\n",
              "       width=\"24px\">\n",
              "    <path d=\"M0 0h24v24H0V0z\" fill=\"none\"/>\n",
              "    <path d=\"M18.56 5.44l.94 2.06.94-2.06 2.06-.94-2.06-.94-.94-2.06-.94 2.06-2.06.94zm-11 1L8.5 8.5l.94-2.06 2.06-.94-2.06-.94L8.5 2.5l-.94 2.06-2.06.94zm10 10l.94 2.06.94-2.06 2.06-.94-2.06-.94-.94-2.06-.94 2.06-2.06.94z\"/><path d=\"M17.41 7.96l-1.37-1.37c-.4-.4-.92-.59-1.43-.59-.52 0-1.04.2-1.43.59L10.3 9.45l-7.72 7.72c-.78.78-.78 2.05 0 2.83L4 21.41c.39.39.9.59 1.41.59.51 0 1.02-.2 1.41-.59l7.78-7.78 2.81-2.81c.8-.78.8-2.07 0-2.86zM5.41 20L4 18.59l7.72-7.72 1.47 1.35L5.41 20z\"/>\n",
              "  </svg>\n",
              "      </button>\n",
              "      \n",
              "  <style>\n",
              "    .colab-df-container {\n",
              "      display:flex;\n",
              "      flex-wrap:wrap;\n",
              "      gap: 12px;\n",
              "    }\n",
              "\n",
              "    .colab-df-convert {\n",
              "      background-color: #E8F0FE;\n",
              "      border: none;\n",
              "      border-radius: 50%;\n",
              "      cursor: pointer;\n",
              "      display: none;\n",
              "      fill: #1967D2;\n",
              "      height: 32px;\n",
              "      padding: 0 0 0 0;\n",
              "      width: 32px;\n",
              "    }\n",
              "\n",
              "    .colab-df-convert:hover {\n",
              "      background-color: #E2EBFA;\n",
              "      box-shadow: 0px 1px 2px rgba(60, 64, 67, 0.3), 0px 1px 3px 1px rgba(60, 64, 67, 0.15);\n",
              "      fill: #174EA6;\n",
              "    }\n",
              "\n",
              "    [theme=dark] .colab-df-convert {\n",
              "      background-color: #3B4455;\n",
              "      fill: #D2E3FC;\n",
              "    }\n",
              "\n",
              "    [theme=dark] .colab-df-convert:hover {\n",
              "      background-color: #434B5C;\n",
              "      box-shadow: 0px 1px 3px 1px rgba(0, 0, 0, 0.15);\n",
              "      filter: drop-shadow(0px 1px 2px rgba(0, 0, 0, 0.3));\n",
              "      fill: #FFFFFF;\n",
              "    }\n",
              "  </style>\n",
              "\n",
              "      <script>\n",
              "        const buttonEl =\n",
              "          document.querySelector('#df-e8f236a8-2965-4379-a4a1-c460a8d004a2 button.colab-df-convert');\n",
              "        buttonEl.style.display =\n",
              "          google.colab.kernel.accessAllowed ? 'block' : 'none';\n",
              "\n",
              "        async function convertToInteractive(key) {\n",
              "          const element = document.querySelector('#df-e8f236a8-2965-4379-a4a1-c460a8d004a2');\n",
              "          const dataTable =\n",
              "            await google.colab.kernel.invokeFunction('convertToInteractive',\n",
              "                                                     [key], {});\n",
              "          if (!dataTable) return;\n",
              "\n",
              "          const docLinkHtml = 'Like what you see? Visit the ' +\n",
              "            '<a target=\"_blank\" href=https://colab.research.google.com/notebooks/data_table.ipynb>data table notebook</a>'\n",
              "            + ' to learn more about interactive tables.';\n",
              "          element.innerHTML = '';\n",
              "          dataTable['output_type'] = 'display_data';\n",
              "          await google.colab.output.renderOutput(dataTable, element);\n",
              "          const docLink = document.createElement('div');\n",
              "          docLink.innerHTML = docLinkHtml;\n",
              "          element.appendChild(docLink);\n",
              "        }\n",
              "      </script>\n",
              "    </div>\n",
              "  </div>\n",
              "  "
            ]
          },
          "metadata": {},
          "execution_count": 10
        }
      ],
      "source": [
        "data['normalized'] = data['diacritics'].apply(normalize)\n",
        "data.head()"
      ]
    },
    {
      "cell_type": "code",
      "execution_count": 11,
      "metadata": {
        "id": "zyl3RKJyYhz_"
      },
      "outputs": [],
      "source": [
        "#remove extra whitespace\n",
        "def remove_e_w_s(string):\n",
        "  regex = re.compile(r'[\\s+]')\n",
        "  string = re.sub(regex,' ', string)\n",
        "  return string"
      ]
    },
    {
      "cell_type": "code",
      "execution_count": 12,
      "metadata": {
        "colab": {
          "base_uri": "https://localhost:8080/",
          "height": 0
        },
        "id": "i3rnf8C-ZDRi",
        "outputId": "ad5da5f0-0bbb-40ac-9a3a-ff50dad3f781"
      },
      "outputs": [
        {
          "output_type": "execute_result",
          "data": {
            "text/plain": [
              "                                             comment  pol      Topic  \\\n",
              "0                    وعلاه خايفين تقعدو فيها وحدكم 😁    1  politique   \n",
              "1                                 😎 ربي يعاون الرجال    1    sociale   \n",
              "2  جيبوها من لخر     قبايل   و كلكم تعرفو شكون هو...    1    sociale   \n",
              "3     علاه راهم يحرڤو 🤔ستناو دزاير الجديدة راهي جاية    1  politique   \n",
              "4  الله يعاونكم انا شاء الله وهنيكم من المسؤلين ا...    1  politique   \n",
              "\n",
              "                                          diacritics  \\\n",
              "0                    وعلاه خايفين تقعدو فيها وحدكم 😁   \n",
              "1                                 😎 ربي يعاون الرجال   \n",
              "2  جيبوها من لخر     قبايل   و كلكم تعرفو شكون هو...   \n",
              "3     علاه راهم يحرڤو 🤔ستناو دزاير الجديدة راهي جاية   \n",
              "4  الله يعاونكم انا شاء الله وهنيكم من المسؤلين ا...   \n",
              "\n",
              "                                          normalized  \\\n",
              "0                    وعلاه خايفين تقعدو فيها وحدكم 😁   \n",
              "1                                 😎 ربي يعاون الرجال   \n",
              "2  جيبوها من لخر     قبايل   و كلكم تعرفو شكون هو...   \n",
              "3     علاه راهم يحرڤو 🤔ستناو دزاير الجديدة راهي جاية   \n",
              "4  الله يعاونكم انا شاء الله وهنيكم من المسءلين ا...   \n",
              "\n",
              "                                          whitespace  \n",
              "0                    وعلاه خايفين تقعدو فيها وحدكم 😁  \n",
              "1                                 😎 ربي يعاون الرجال  \n",
              "2  جيبوها من لخر     قبايل   و كلكم تعرفو شكون هو...  \n",
              "3     علاه راهم يحرڤو 🤔ستناو دزاير الجديدة راهي جاية  \n",
              "4  الله يعاونكم انا شاء الله وهنيكم من المسءلين ا...  "
            ],
            "text/html": [
              "\n",
              "  <div id=\"df-9afae196-0032-489a-9f11-9ed8ed36728e\">\n",
              "    <div class=\"colab-df-container\">\n",
              "      <div>\n",
              "<style scoped>\n",
              "    .dataframe tbody tr th:only-of-type {\n",
              "        vertical-align: middle;\n",
              "    }\n",
              "\n",
              "    .dataframe tbody tr th {\n",
              "        vertical-align: top;\n",
              "    }\n",
              "\n",
              "    .dataframe thead th {\n",
              "        text-align: right;\n",
              "    }\n",
              "</style>\n",
              "<table border=\"1\" class=\"dataframe\">\n",
              "  <thead>\n",
              "    <tr style=\"text-align: right;\">\n",
              "      <th></th>\n",
              "      <th>comment</th>\n",
              "      <th>pol</th>\n",
              "      <th>Topic</th>\n",
              "      <th>diacritics</th>\n",
              "      <th>normalized</th>\n",
              "      <th>whitespace</th>\n",
              "    </tr>\n",
              "  </thead>\n",
              "  <tbody>\n",
              "    <tr>\n",
              "      <th>0</th>\n",
              "      <td>وعلاه خايفين تقعدو فيها وحدكم 😁</td>\n",
              "      <td>1</td>\n",
              "      <td>politique</td>\n",
              "      <td>وعلاه خايفين تقعدو فيها وحدكم 😁</td>\n",
              "      <td>وعلاه خايفين تقعدو فيها وحدكم 😁</td>\n",
              "      <td>وعلاه خايفين تقعدو فيها وحدكم 😁</td>\n",
              "    </tr>\n",
              "    <tr>\n",
              "      <th>1</th>\n",
              "      <td>😎 ربي يعاون الرجال</td>\n",
              "      <td>1</td>\n",
              "      <td>sociale</td>\n",
              "      <td>😎 ربي يعاون الرجال</td>\n",
              "      <td>😎 ربي يعاون الرجال</td>\n",
              "      <td>😎 ربي يعاون الرجال</td>\n",
              "    </tr>\n",
              "    <tr>\n",
              "      <th>2</th>\n",
              "      <td>جيبوها من لخر     قبايل   و كلكم تعرفو شكون هو...</td>\n",
              "      <td>1</td>\n",
              "      <td>sociale</td>\n",
              "      <td>جيبوها من لخر     قبايل   و كلكم تعرفو شكون هو...</td>\n",
              "      <td>جيبوها من لخر     قبايل   و كلكم تعرفو شكون هو...</td>\n",
              "      <td>جيبوها من لخر     قبايل   و كلكم تعرفو شكون هو...</td>\n",
              "    </tr>\n",
              "    <tr>\n",
              "      <th>3</th>\n",
              "      <td>علاه راهم يحرڤو 🤔ستناو دزاير الجديدة راهي جاية</td>\n",
              "      <td>1</td>\n",
              "      <td>politique</td>\n",
              "      <td>علاه راهم يحرڤو 🤔ستناو دزاير الجديدة راهي جاية</td>\n",
              "      <td>علاه راهم يحرڤو 🤔ستناو دزاير الجديدة راهي جاية</td>\n",
              "      <td>علاه راهم يحرڤو 🤔ستناو دزاير الجديدة راهي جاية</td>\n",
              "    </tr>\n",
              "    <tr>\n",
              "      <th>4</th>\n",
              "      <td>الله يعاونكم انا شاء الله وهنيكم من المسؤلين ا...</td>\n",
              "      <td>1</td>\n",
              "      <td>politique</td>\n",
              "      <td>الله يعاونكم انا شاء الله وهنيكم من المسؤلين ا...</td>\n",
              "      <td>الله يعاونكم انا شاء الله وهنيكم من المسءلين ا...</td>\n",
              "      <td>الله يعاونكم انا شاء الله وهنيكم من المسءلين ا...</td>\n",
              "    </tr>\n",
              "  </tbody>\n",
              "</table>\n",
              "</div>\n",
              "      <button class=\"colab-df-convert\" onclick=\"convertToInteractive('df-9afae196-0032-489a-9f11-9ed8ed36728e')\"\n",
              "              title=\"Convert this dataframe to an interactive table.\"\n",
              "              style=\"display:none;\">\n",
              "        \n",
              "  <svg xmlns=\"http://www.w3.org/2000/svg\" height=\"24px\"viewBox=\"0 0 24 24\"\n",
              "       width=\"24px\">\n",
              "    <path d=\"M0 0h24v24H0V0z\" fill=\"none\"/>\n",
              "    <path d=\"M18.56 5.44l.94 2.06.94-2.06 2.06-.94-2.06-.94-.94-2.06-.94 2.06-2.06.94zm-11 1L8.5 8.5l.94-2.06 2.06-.94-2.06-.94L8.5 2.5l-.94 2.06-2.06.94zm10 10l.94 2.06.94-2.06 2.06-.94-2.06-.94-.94-2.06-.94 2.06-2.06.94z\"/><path d=\"M17.41 7.96l-1.37-1.37c-.4-.4-.92-.59-1.43-.59-.52 0-1.04.2-1.43.59L10.3 9.45l-7.72 7.72c-.78.78-.78 2.05 0 2.83L4 21.41c.39.39.9.59 1.41.59.51 0 1.02-.2 1.41-.59l7.78-7.78 2.81-2.81c.8-.78.8-2.07 0-2.86zM5.41 20L4 18.59l7.72-7.72 1.47 1.35L5.41 20z\"/>\n",
              "  </svg>\n",
              "      </button>\n",
              "      \n",
              "  <style>\n",
              "    .colab-df-container {\n",
              "      display:flex;\n",
              "      flex-wrap:wrap;\n",
              "      gap: 12px;\n",
              "    }\n",
              "\n",
              "    .colab-df-convert {\n",
              "      background-color: #E8F0FE;\n",
              "      border: none;\n",
              "      border-radius: 50%;\n",
              "      cursor: pointer;\n",
              "      display: none;\n",
              "      fill: #1967D2;\n",
              "      height: 32px;\n",
              "      padding: 0 0 0 0;\n",
              "      width: 32px;\n",
              "    }\n",
              "\n",
              "    .colab-df-convert:hover {\n",
              "      background-color: #E2EBFA;\n",
              "      box-shadow: 0px 1px 2px rgba(60, 64, 67, 0.3), 0px 1px 3px 1px rgba(60, 64, 67, 0.15);\n",
              "      fill: #174EA6;\n",
              "    }\n",
              "\n",
              "    [theme=dark] .colab-df-convert {\n",
              "      background-color: #3B4455;\n",
              "      fill: #D2E3FC;\n",
              "    }\n",
              "\n",
              "    [theme=dark] .colab-df-convert:hover {\n",
              "      background-color: #434B5C;\n",
              "      box-shadow: 0px 1px 3px 1px rgba(0, 0, 0, 0.15);\n",
              "      filter: drop-shadow(0px 1px 2px rgba(0, 0, 0, 0.3));\n",
              "      fill: #FFFFFF;\n",
              "    }\n",
              "  </style>\n",
              "\n",
              "      <script>\n",
              "        const buttonEl =\n",
              "          document.querySelector('#df-9afae196-0032-489a-9f11-9ed8ed36728e button.colab-df-convert');\n",
              "        buttonEl.style.display =\n",
              "          google.colab.kernel.accessAllowed ? 'block' : 'none';\n",
              "\n",
              "        async function convertToInteractive(key) {\n",
              "          const element = document.querySelector('#df-9afae196-0032-489a-9f11-9ed8ed36728e');\n",
              "          const dataTable =\n",
              "            await google.colab.kernel.invokeFunction('convertToInteractive',\n",
              "                                                     [key], {});\n",
              "          if (!dataTable) return;\n",
              "\n",
              "          const docLinkHtml = 'Like what you see? Visit the ' +\n",
              "            '<a target=\"_blank\" href=https://colab.research.google.com/notebooks/data_table.ipynb>data table notebook</a>'\n",
              "            + ' to learn more about interactive tables.';\n",
              "          element.innerHTML = '';\n",
              "          dataTable['output_type'] = 'display_data';\n",
              "          await google.colab.output.renderOutput(dataTable, element);\n",
              "          const docLink = document.createElement('div');\n",
              "          docLink.innerHTML = docLinkHtml;\n",
              "          element.appendChild(docLink);\n",
              "        }\n",
              "      </script>\n",
              "    </div>\n",
              "  </div>\n",
              "  "
            ]
          },
          "metadata": {},
          "execution_count": 12
        }
      ],
      "source": [
        "data['whitespace'] = data['normalized'].apply(remove_e_w_s)\n",
        "data.head()"
      ]
    },
    {
      "cell_type": "code",
      "execution_count": 13,
      "metadata": {
        "id": "_KkkEEsGYhxP"
      },
      "outputs": [],
      "source": [
        "#remove symboles \n",
        "def remove_symboles(string):\n",
        "    return re.sub(r'[^\\u0600-\\u06FF]', ' ', string)"
      ]
    },
    {
      "cell_type": "code",
      "execution_count": 14,
      "metadata": {
        "colab": {
          "base_uri": "https://localhost:8080/",
          "height": 0
        },
        "id": "orvUzpsFZC2Q",
        "outputId": "1fe0f37e-9b26-4c78-b472-c96554289b56"
      },
      "outputs": [
        {
          "output_type": "execute_result",
          "data": {
            "text/plain": [
              "                                             comment  pol      Topic  \\\n",
              "0                    وعلاه خايفين تقعدو فيها وحدكم 😁    1  politique   \n",
              "1                                 😎 ربي يعاون الرجال    1    sociale   \n",
              "2  جيبوها من لخر     قبايل   و كلكم تعرفو شكون هو...    1    sociale   \n",
              "3     علاه راهم يحرڤو 🤔ستناو دزاير الجديدة راهي جاية    1  politique   \n",
              "4  الله يعاونكم انا شاء الله وهنيكم من المسؤلين ا...    1  politique   \n",
              "\n",
              "                                          diacritics  \\\n",
              "0                    وعلاه خايفين تقعدو فيها وحدكم 😁   \n",
              "1                                 😎 ربي يعاون الرجال   \n",
              "2  جيبوها من لخر     قبايل   و كلكم تعرفو شكون هو...   \n",
              "3     علاه راهم يحرڤو 🤔ستناو دزاير الجديدة راهي جاية   \n",
              "4  الله يعاونكم انا شاء الله وهنيكم من المسؤلين ا...   \n",
              "\n",
              "                                          normalized  \\\n",
              "0                    وعلاه خايفين تقعدو فيها وحدكم 😁   \n",
              "1                                 😎 ربي يعاون الرجال   \n",
              "2  جيبوها من لخر     قبايل   و كلكم تعرفو شكون هو...   \n",
              "3     علاه راهم يحرڤو 🤔ستناو دزاير الجديدة راهي جاية   \n",
              "4  الله يعاونكم انا شاء الله وهنيكم من المسءلين ا...   \n",
              "\n",
              "                                          whitespace  \\\n",
              "0                    وعلاه خايفين تقعدو فيها وحدكم 😁   \n",
              "1                                 😎 ربي يعاون الرجال   \n",
              "2  جيبوها من لخر     قبايل   و كلكم تعرفو شكون هو...   \n",
              "3     علاه راهم يحرڤو 🤔ستناو دزاير الجديدة راهي جاية   \n",
              "4  الله يعاونكم انا شاء الله وهنيكم من المسءلين ا...   \n",
              "\n",
              "                                            symboles  \n",
              "0                    وعلاه خايفين تقعدو فيها وحدكم    \n",
              "1                                   ربي يعاون الرجال  \n",
              "2  جيبوها من لخر     قبايل   و كلكم تعرفو شكون هو...  \n",
              "3     علاه راهم يحرڤو  ستناو دزاير الجديدة راهي جاية  \n",
              "4  الله يعاونكم انا شاء الله وهنيكم من المسءلين ا...  "
            ],
            "text/html": [
              "\n",
              "  <div id=\"df-7970244a-5650-4c0d-8aa2-223a53b16d8e\">\n",
              "    <div class=\"colab-df-container\">\n",
              "      <div>\n",
              "<style scoped>\n",
              "    .dataframe tbody tr th:only-of-type {\n",
              "        vertical-align: middle;\n",
              "    }\n",
              "\n",
              "    .dataframe tbody tr th {\n",
              "        vertical-align: top;\n",
              "    }\n",
              "\n",
              "    .dataframe thead th {\n",
              "        text-align: right;\n",
              "    }\n",
              "</style>\n",
              "<table border=\"1\" class=\"dataframe\">\n",
              "  <thead>\n",
              "    <tr style=\"text-align: right;\">\n",
              "      <th></th>\n",
              "      <th>comment</th>\n",
              "      <th>pol</th>\n",
              "      <th>Topic</th>\n",
              "      <th>diacritics</th>\n",
              "      <th>normalized</th>\n",
              "      <th>whitespace</th>\n",
              "      <th>symboles</th>\n",
              "    </tr>\n",
              "  </thead>\n",
              "  <tbody>\n",
              "    <tr>\n",
              "      <th>0</th>\n",
              "      <td>وعلاه خايفين تقعدو فيها وحدكم 😁</td>\n",
              "      <td>1</td>\n",
              "      <td>politique</td>\n",
              "      <td>وعلاه خايفين تقعدو فيها وحدكم 😁</td>\n",
              "      <td>وعلاه خايفين تقعدو فيها وحدكم 😁</td>\n",
              "      <td>وعلاه خايفين تقعدو فيها وحدكم 😁</td>\n",
              "      <td>وعلاه خايفين تقعدو فيها وحدكم</td>\n",
              "    </tr>\n",
              "    <tr>\n",
              "      <th>1</th>\n",
              "      <td>😎 ربي يعاون الرجال</td>\n",
              "      <td>1</td>\n",
              "      <td>sociale</td>\n",
              "      <td>😎 ربي يعاون الرجال</td>\n",
              "      <td>😎 ربي يعاون الرجال</td>\n",
              "      <td>😎 ربي يعاون الرجال</td>\n",
              "      <td>ربي يعاون الرجال</td>\n",
              "    </tr>\n",
              "    <tr>\n",
              "      <th>2</th>\n",
              "      <td>جيبوها من لخر     قبايل   و كلكم تعرفو شكون هو...</td>\n",
              "      <td>1</td>\n",
              "      <td>sociale</td>\n",
              "      <td>جيبوها من لخر     قبايل   و كلكم تعرفو شكون هو...</td>\n",
              "      <td>جيبوها من لخر     قبايل   و كلكم تعرفو شكون هو...</td>\n",
              "      <td>جيبوها من لخر     قبايل   و كلكم تعرفو شكون هو...</td>\n",
              "      <td>جيبوها من لخر     قبايل   و كلكم تعرفو شكون هو...</td>\n",
              "    </tr>\n",
              "    <tr>\n",
              "      <th>3</th>\n",
              "      <td>علاه راهم يحرڤو 🤔ستناو دزاير الجديدة راهي جاية</td>\n",
              "      <td>1</td>\n",
              "      <td>politique</td>\n",
              "      <td>علاه راهم يحرڤو 🤔ستناو دزاير الجديدة راهي جاية</td>\n",
              "      <td>علاه راهم يحرڤو 🤔ستناو دزاير الجديدة راهي جاية</td>\n",
              "      <td>علاه راهم يحرڤو 🤔ستناو دزاير الجديدة راهي جاية</td>\n",
              "      <td>علاه راهم يحرڤو  ستناو دزاير الجديدة راهي جاية</td>\n",
              "    </tr>\n",
              "    <tr>\n",
              "      <th>4</th>\n",
              "      <td>الله يعاونكم انا شاء الله وهنيكم من المسؤلين ا...</td>\n",
              "      <td>1</td>\n",
              "      <td>politique</td>\n",
              "      <td>الله يعاونكم انا شاء الله وهنيكم من المسؤلين ا...</td>\n",
              "      <td>الله يعاونكم انا شاء الله وهنيكم من المسءلين ا...</td>\n",
              "      <td>الله يعاونكم انا شاء الله وهنيكم من المسءلين ا...</td>\n",
              "      <td>الله يعاونكم انا شاء الله وهنيكم من المسءلين ا...</td>\n",
              "    </tr>\n",
              "  </tbody>\n",
              "</table>\n",
              "</div>\n",
              "      <button class=\"colab-df-convert\" onclick=\"convertToInteractive('df-7970244a-5650-4c0d-8aa2-223a53b16d8e')\"\n",
              "              title=\"Convert this dataframe to an interactive table.\"\n",
              "              style=\"display:none;\">\n",
              "        \n",
              "  <svg xmlns=\"http://www.w3.org/2000/svg\" height=\"24px\"viewBox=\"0 0 24 24\"\n",
              "       width=\"24px\">\n",
              "    <path d=\"M0 0h24v24H0V0z\" fill=\"none\"/>\n",
              "    <path d=\"M18.56 5.44l.94 2.06.94-2.06 2.06-.94-2.06-.94-.94-2.06-.94 2.06-2.06.94zm-11 1L8.5 8.5l.94-2.06 2.06-.94-2.06-.94L8.5 2.5l-.94 2.06-2.06.94zm10 10l.94 2.06.94-2.06 2.06-.94-2.06-.94-.94-2.06-.94 2.06-2.06.94z\"/><path d=\"M17.41 7.96l-1.37-1.37c-.4-.4-.92-.59-1.43-.59-.52 0-1.04.2-1.43.59L10.3 9.45l-7.72 7.72c-.78.78-.78 2.05 0 2.83L4 21.41c.39.39.9.59 1.41.59.51 0 1.02-.2 1.41-.59l7.78-7.78 2.81-2.81c.8-.78.8-2.07 0-2.86zM5.41 20L4 18.59l7.72-7.72 1.47 1.35L5.41 20z\"/>\n",
              "  </svg>\n",
              "      </button>\n",
              "      \n",
              "  <style>\n",
              "    .colab-df-container {\n",
              "      display:flex;\n",
              "      flex-wrap:wrap;\n",
              "      gap: 12px;\n",
              "    }\n",
              "\n",
              "    .colab-df-convert {\n",
              "      background-color: #E8F0FE;\n",
              "      border: none;\n",
              "      border-radius: 50%;\n",
              "      cursor: pointer;\n",
              "      display: none;\n",
              "      fill: #1967D2;\n",
              "      height: 32px;\n",
              "      padding: 0 0 0 0;\n",
              "      width: 32px;\n",
              "    }\n",
              "\n",
              "    .colab-df-convert:hover {\n",
              "      background-color: #E2EBFA;\n",
              "      box-shadow: 0px 1px 2px rgba(60, 64, 67, 0.3), 0px 1px 3px 1px rgba(60, 64, 67, 0.15);\n",
              "      fill: #174EA6;\n",
              "    }\n",
              "\n",
              "    [theme=dark] .colab-df-convert {\n",
              "      background-color: #3B4455;\n",
              "      fill: #D2E3FC;\n",
              "    }\n",
              "\n",
              "    [theme=dark] .colab-df-convert:hover {\n",
              "      background-color: #434B5C;\n",
              "      box-shadow: 0px 1px 3px 1px rgba(0, 0, 0, 0.15);\n",
              "      filter: drop-shadow(0px 1px 2px rgba(0, 0, 0, 0.3));\n",
              "      fill: #FFFFFF;\n",
              "    }\n",
              "  </style>\n",
              "\n",
              "      <script>\n",
              "        const buttonEl =\n",
              "          document.querySelector('#df-7970244a-5650-4c0d-8aa2-223a53b16d8e button.colab-df-convert');\n",
              "        buttonEl.style.display =\n",
              "          google.colab.kernel.accessAllowed ? 'block' : 'none';\n",
              "\n",
              "        async function convertToInteractive(key) {\n",
              "          const element = document.querySelector('#df-7970244a-5650-4c0d-8aa2-223a53b16d8e');\n",
              "          const dataTable =\n",
              "            await google.colab.kernel.invokeFunction('convertToInteractive',\n",
              "                                                     [key], {});\n",
              "          if (!dataTable) return;\n",
              "\n",
              "          const docLinkHtml = 'Like what you see? Visit the ' +\n",
              "            '<a target=\"_blank\" href=https://colab.research.google.com/notebooks/data_table.ipynb>data table notebook</a>'\n",
              "            + ' to learn more about interactive tables.';\n",
              "          element.innerHTML = '';\n",
              "          dataTable['output_type'] = 'display_data';\n",
              "          await google.colab.output.renderOutput(dataTable, element);\n",
              "          const docLink = document.createElement('div');\n",
              "          docLink.innerHTML = docLinkHtml;\n",
              "          element.appendChild(docLink);\n",
              "        }\n",
              "      </script>\n",
              "    </div>\n",
              "  </div>\n",
              "  "
            ]
          },
          "metadata": {},
          "execution_count": 14
        }
      ],
      "source": [
        "data['symboles'] = data['whitespace'].apply(remove_symboles)\n",
        "data.head()"
      ]
    },
    {
      "cell_type": "code",
      "execution_count": 15,
      "metadata": {
        "id": "3gJ1PaAoYtec"
      },
      "outputs": [],
      "source": [
        "#Tokenisation\n",
        "def token(sentence):\n",
        "   \n",
        "    words = nltk.word_tokenize(sentence)\n",
        "    new_words= [word for word in words if word.isalnum()]\n",
        "\n",
        "    return(new_words)"
      ]
    },
    {
      "cell_type": "code",
      "execution_count": 16,
      "metadata": {
        "colab": {
          "base_uri": "https://localhost:8080/",
          "height": 0
        },
        "id": "WtNqxXdLZCbU",
        "outputId": "1082aa8d-e6f8-4ba6-829c-514c755907fb"
      },
      "outputs": [
        {
          "output_type": "execute_result",
          "data": {
            "text/plain": [
              "                                             comment  pol      Topic  \\\n",
              "0                    وعلاه خايفين تقعدو فيها وحدكم 😁    1  politique   \n",
              "1                                 😎 ربي يعاون الرجال    1    sociale   \n",
              "2  جيبوها من لخر     قبايل   و كلكم تعرفو شكون هو...    1    sociale   \n",
              "3     علاه راهم يحرڤو 🤔ستناو دزاير الجديدة راهي جاية    1  politique   \n",
              "4  الله يعاونكم انا شاء الله وهنيكم من المسؤلين ا...    1  politique   \n",
              "\n",
              "                                          diacritics  \\\n",
              "0                    وعلاه خايفين تقعدو فيها وحدكم 😁   \n",
              "1                                 😎 ربي يعاون الرجال   \n",
              "2  جيبوها من لخر     قبايل   و كلكم تعرفو شكون هو...   \n",
              "3     علاه راهم يحرڤو 🤔ستناو دزاير الجديدة راهي جاية   \n",
              "4  الله يعاونكم انا شاء الله وهنيكم من المسؤلين ا...   \n",
              "\n",
              "                                          normalized  \\\n",
              "0                    وعلاه خايفين تقعدو فيها وحدكم 😁   \n",
              "1                                 😎 ربي يعاون الرجال   \n",
              "2  جيبوها من لخر     قبايل   و كلكم تعرفو شكون هو...   \n",
              "3     علاه راهم يحرڤو 🤔ستناو دزاير الجديدة راهي جاية   \n",
              "4  الله يعاونكم انا شاء الله وهنيكم من المسءلين ا...   \n",
              "\n",
              "                                          whitespace  \\\n",
              "0                    وعلاه خايفين تقعدو فيها وحدكم 😁   \n",
              "1                                 😎 ربي يعاون الرجال   \n",
              "2  جيبوها من لخر     قبايل   و كلكم تعرفو شكون هو...   \n",
              "3     علاه راهم يحرڤو 🤔ستناو دزاير الجديدة راهي جاية   \n",
              "4  الله يعاونكم انا شاء الله وهنيكم من المسءلين ا...   \n",
              "\n",
              "                                            symboles  \\\n",
              "0                    وعلاه خايفين تقعدو فيها وحدكم     \n",
              "1                                   ربي يعاون الرجال   \n",
              "2  جيبوها من لخر     قبايل   و كلكم تعرفو شكون هو...   \n",
              "3     علاه راهم يحرڤو  ستناو دزاير الجديدة راهي جاية   \n",
              "4  الله يعاونكم انا شاء الله وهنيكم من المسءلين ا...   \n",
              "\n",
              "                                               token  \n",
              "0                [وعلاه, خايفين, تقعدو, فيها, وحدكم]  \n",
              "1                               [ربي, يعاون, الرجال]  \n",
              "2  [جيبوها, من, لخر, قبايل, و, كلكم, تعرفو, شكون,...  \n",
              "3  [علاه, راهم, يحرڤو, ستناو, دزاير, الجديدة, راه...  \n",
              "4  [الله, يعاونكم, انا, شاء, الله, وهنيكم, من, ال...  "
            ],
            "text/html": [
              "\n",
              "  <div id=\"df-7d1558bb-42ff-4981-896e-f6ac41d49b4b\">\n",
              "    <div class=\"colab-df-container\">\n",
              "      <div>\n",
              "<style scoped>\n",
              "    .dataframe tbody tr th:only-of-type {\n",
              "        vertical-align: middle;\n",
              "    }\n",
              "\n",
              "    .dataframe tbody tr th {\n",
              "        vertical-align: top;\n",
              "    }\n",
              "\n",
              "    .dataframe thead th {\n",
              "        text-align: right;\n",
              "    }\n",
              "</style>\n",
              "<table border=\"1\" class=\"dataframe\">\n",
              "  <thead>\n",
              "    <tr style=\"text-align: right;\">\n",
              "      <th></th>\n",
              "      <th>comment</th>\n",
              "      <th>pol</th>\n",
              "      <th>Topic</th>\n",
              "      <th>diacritics</th>\n",
              "      <th>normalized</th>\n",
              "      <th>whitespace</th>\n",
              "      <th>symboles</th>\n",
              "      <th>token</th>\n",
              "    </tr>\n",
              "  </thead>\n",
              "  <tbody>\n",
              "    <tr>\n",
              "      <th>0</th>\n",
              "      <td>وعلاه خايفين تقعدو فيها وحدكم 😁</td>\n",
              "      <td>1</td>\n",
              "      <td>politique</td>\n",
              "      <td>وعلاه خايفين تقعدو فيها وحدكم 😁</td>\n",
              "      <td>وعلاه خايفين تقعدو فيها وحدكم 😁</td>\n",
              "      <td>وعلاه خايفين تقعدو فيها وحدكم 😁</td>\n",
              "      <td>وعلاه خايفين تقعدو فيها وحدكم</td>\n",
              "      <td>[وعلاه, خايفين, تقعدو, فيها, وحدكم]</td>\n",
              "    </tr>\n",
              "    <tr>\n",
              "      <th>1</th>\n",
              "      <td>😎 ربي يعاون الرجال</td>\n",
              "      <td>1</td>\n",
              "      <td>sociale</td>\n",
              "      <td>😎 ربي يعاون الرجال</td>\n",
              "      <td>😎 ربي يعاون الرجال</td>\n",
              "      <td>😎 ربي يعاون الرجال</td>\n",
              "      <td>ربي يعاون الرجال</td>\n",
              "      <td>[ربي, يعاون, الرجال]</td>\n",
              "    </tr>\n",
              "    <tr>\n",
              "      <th>2</th>\n",
              "      <td>جيبوها من لخر     قبايل   و كلكم تعرفو شكون هو...</td>\n",
              "      <td>1</td>\n",
              "      <td>sociale</td>\n",
              "      <td>جيبوها من لخر     قبايل   و كلكم تعرفو شكون هو...</td>\n",
              "      <td>جيبوها من لخر     قبايل   و كلكم تعرفو شكون هو...</td>\n",
              "      <td>جيبوها من لخر     قبايل   و كلكم تعرفو شكون هو...</td>\n",
              "      <td>جيبوها من لخر     قبايل   و كلكم تعرفو شكون هو...</td>\n",
              "      <td>[جيبوها, من, لخر, قبايل, و, كلكم, تعرفو, شكون,...</td>\n",
              "    </tr>\n",
              "    <tr>\n",
              "      <th>3</th>\n",
              "      <td>علاه راهم يحرڤو 🤔ستناو دزاير الجديدة راهي جاية</td>\n",
              "      <td>1</td>\n",
              "      <td>politique</td>\n",
              "      <td>علاه راهم يحرڤو 🤔ستناو دزاير الجديدة راهي جاية</td>\n",
              "      <td>علاه راهم يحرڤو 🤔ستناو دزاير الجديدة راهي جاية</td>\n",
              "      <td>علاه راهم يحرڤو 🤔ستناو دزاير الجديدة راهي جاية</td>\n",
              "      <td>علاه راهم يحرڤو  ستناو دزاير الجديدة راهي جاية</td>\n",
              "      <td>[علاه, راهم, يحرڤو, ستناو, دزاير, الجديدة, راه...</td>\n",
              "    </tr>\n",
              "    <tr>\n",
              "      <th>4</th>\n",
              "      <td>الله يعاونكم انا شاء الله وهنيكم من المسؤلين ا...</td>\n",
              "      <td>1</td>\n",
              "      <td>politique</td>\n",
              "      <td>الله يعاونكم انا شاء الله وهنيكم من المسؤلين ا...</td>\n",
              "      <td>الله يعاونكم انا شاء الله وهنيكم من المسءلين ا...</td>\n",
              "      <td>الله يعاونكم انا شاء الله وهنيكم من المسءلين ا...</td>\n",
              "      <td>الله يعاونكم انا شاء الله وهنيكم من المسءلين ا...</td>\n",
              "      <td>[الله, يعاونكم, انا, شاء, الله, وهنيكم, من, ال...</td>\n",
              "    </tr>\n",
              "  </tbody>\n",
              "</table>\n",
              "</div>\n",
              "      <button class=\"colab-df-convert\" onclick=\"convertToInteractive('df-7d1558bb-42ff-4981-896e-f6ac41d49b4b')\"\n",
              "              title=\"Convert this dataframe to an interactive table.\"\n",
              "              style=\"display:none;\">\n",
              "        \n",
              "  <svg xmlns=\"http://www.w3.org/2000/svg\" height=\"24px\"viewBox=\"0 0 24 24\"\n",
              "       width=\"24px\">\n",
              "    <path d=\"M0 0h24v24H0V0z\" fill=\"none\"/>\n",
              "    <path d=\"M18.56 5.44l.94 2.06.94-2.06 2.06-.94-2.06-.94-.94-2.06-.94 2.06-2.06.94zm-11 1L8.5 8.5l.94-2.06 2.06-.94-2.06-.94L8.5 2.5l-.94 2.06-2.06.94zm10 10l.94 2.06.94-2.06 2.06-.94-2.06-.94-.94-2.06-.94 2.06-2.06.94z\"/><path d=\"M17.41 7.96l-1.37-1.37c-.4-.4-.92-.59-1.43-.59-.52 0-1.04.2-1.43.59L10.3 9.45l-7.72 7.72c-.78.78-.78 2.05 0 2.83L4 21.41c.39.39.9.59 1.41.59.51 0 1.02-.2 1.41-.59l7.78-7.78 2.81-2.81c.8-.78.8-2.07 0-2.86zM5.41 20L4 18.59l7.72-7.72 1.47 1.35L5.41 20z\"/>\n",
              "  </svg>\n",
              "      </button>\n",
              "      \n",
              "  <style>\n",
              "    .colab-df-container {\n",
              "      display:flex;\n",
              "      flex-wrap:wrap;\n",
              "      gap: 12px;\n",
              "    }\n",
              "\n",
              "    .colab-df-convert {\n",
              "      background-color: #E8F0FE;\n",
              "      border: none;\n",
              "      border-radius: 50%;\n",
              "      cursor: pointer;\n",
              "      display: none;\n",
              "      fill: #1967D2;\n",
              "      height: 32px;\n",
              "      padding: 0 0 0 0;\n",
              "      width: 32px;\n",
              "    }\n",
              "\n",
              "    .colab-df-convert:hover {\n",
              "      background-color: #E2EBFA;\n",
              "      box-shadow: 0px 1px 2px rgba(60, 64, 67, 0.3), 0px 1px 3px 1px rgba(60, 64, 67, 0.15);\n",
              "      fill: #174EA6;\n",
              "    }\n",
              "\n",
              "    [theme=dark] .colab-df-convert {\n",
              "      background-color: #3B4455;\n",
              "      fill: #D2E3FC;\n",
              "    }\n",
              "\n",
              "    [theme=dark] .colab-df-convert:hover {\n",
              "      background-color: #434B5C;\n",
              "      box-shadow: 0px 1px 3px 1px rgba(0, 0, 0, 0.15);\n",
              "      filter: drop-shadow(0px 1px 2px rgba(0, 0, 0, 0.3));\n",
              "      fill: #FFFFFF;\n",
              "    }\n",
              "  </style>\n",
              "\n",
              "      <script>\n",
              "        const buttonEl =\n",
              "          document.querySelector('#df-7d1558bb-42ff-4981-896e-f6ac41d49b4b button.colab-df-convert');\n",
              "        buttonEl.style.display =\n",
              "          google.colab.kernel.accessAllowed ? 'block' : 'none';\n",
              "\n",
              "        async function convertToInteractive(key) {\n",
              "          const element = document.querySelector('#df-7d1558bb-42ff-4981-896e-f6ac41d49b4b');\n",
              "          const dataTable =\n",
              "            await google.colab.kernel.invokeFunction('convertToInteractive',\n",
              "                                                     [key], {});\n",
              "          if (!dataTable) return;\n",
              "\n",
              "          const docLinkHtml = 'Like what you see? Visit the ' +\n",
              "            '<a target=\"_blank\" href=https://colab.research.google.com/notebooks/data_table.ipynb>data table notebook</a>'\n",
              "            + ' to learn more about interactive tables.';\n",
              "          element.innerHTML = '';\n",
              "          dataTable['output_type'] = 'display_data';\n",
              "          await google.colab.output.renderOutput(dataTable, element);\n",
              "          const docLink = document.createElement('div');\n",
              "          docLink.innerHTML = docLinkHtml;\n",
              "          element.appendChild(docLink);\n",
              "        }\n",
              "      </script>\n",
              "    </div>\n",
              "  </div>\n",
              "  "
            ]
          },
          "metadata": {},
          "execution_count": 16
        }
      ],
      "source": [
        "data['token'] = data['symboles'].apply(token)\n",
        "data.head()"
      ]
    },
    {
      "cell_type": "code",
      "execution_count": 17,
      "metadata": {
        "id": "4duS463-YtKH"
      },
      "outputs": [],
      "source": [
        "#stopwords\n",
        "def remove_stopwords(text):\n",
        "    return [word for word in text if word not in nltk.corpus.stopwords.words('arabic')]"
      ]
    },
    {
      "cell_type": "code",
      "execution_count": 18,
      "metadata": {
        "colab": {
          "base_uri": "https://localhost:8080/",
          "height": 0
        },
        "id": "CJJ8uFJDZCGe",
        "outputId": "c6b0119f-4244-4306-e729-aa2bceddd0b5"
      },
      "outputs": [
        {
          "output_type": "execute_result",
          "data": {
            "text/plain": [
              "                                             comment  pol      Topic  \\\n",
              "0                    وعلاه خايفين تقعدو فيها وحدكم 😁    1  politique   \n",
              "1                                 😎 ربي يعاون الرجال    1    sociale   \n",
              "2  جيبوها من لخر     قبايل   و كلكم تعرفو شكون هو...    1    sociale   \n",
              "3     علاه راهم يحرڤو 🤔ستناو دزاير الجديدة راهي جاية    1  politique   \n",
              "4  الله يعاونكم انا شاء الله وهنيكم من المسؤلين ا...    1  politique   \n",
              "\n",
              "                                          diacritics  \\\n",
              "0                    وعلاه خايفين تقعدو فيها وحدكم 😁   \n",
              "1                                 😎 ربي يعاون الرجال   \n",
              "2  جيبوها من لخر     قبايل   و كلكم تعرفو شكون هو...   \n",
              "3     علاه راهم يحرڤو 🤔ستناو دزاير الجديدة راهي جاية   \n",
              "4  الله يعاونكم انا شاء الله وهنيكم من المسؤلين ا...   \n",
              "\n",
              "                                          normalized  \\\n",
              "0                    وعلاه خايفين تقعدو فيها وحدكم 😁   \n",
              "1                                 😎 ربي يعاون الرجال   \n",
              "2  جيبوها من لخر     قبايل   و كلكم تعرفو شكون هو...   \n",
              "3     علاه راهم يحرڤو 🤔ستناو دزاير الجديدة راهي جاية   \n",
              "4  الله يعاونكم انا شاء الله وهنيكم من المسءلين ا...   \n",
              "\n",
              "                                          whitespace  \\\n",
              "0                    وعلاه خايفين تقعدو فيها وحدكم 😁   \n",
              "1                                 😎 ربي يعاون الرجال   \n",
              "2  جيبوها من لخر     قبايل   و كلكم تعرفو شكون هو...   \n",
              "3     علاه راهم يحرڤو 🤔ستناو دزاير الجديدة راهي جاية   \n",
              "4  الله يعاونكم انا شاء الله وهنيكم من المسءلين ا...   \n",
              "\n",
              "                                            symboles  \\\n",
              "0                    وعلاه خايفين تقعدو فيها وحدكم     \n",
              "1                                   ربي يعاون الرجال   \n",
              "2  جيبوها من لخر     قبايل   و كلكم تعرفو شكون هو...   \n",
              "3     علاه راهم يحرڤو  ستناو دزاير الجديدة راهي جاية   \n",
              "4  الله يعاونكم انا شاء الله وهنيكم من المسءلين ا...   \n",
              "\n",
              "                                               token  \\\n",
              "0                [وعلاه, خايفين, تقعدو, فيها, وحدكم]   \n",
              "1                               [ربي, يعاون, الرجال]   \n",
              "2  [جيبوها, من, لخر, قبايل, و, كلكم, تعرفو, شكون,...   \n",
              "3  [علاه, راهم, يحرڤو, ستناو, دزاير, الجديدة, راه...   \n",
              "4  [الله, يعاونكم, انا, شاء, الله, وهنيكم, من, ال...   \n",
              "\n",
              "                                             stpwrds  \n",
              "0                      [وعلاه, خايفين, تقعدو, وحدكم]  \n",
              "1                               [ربي, يعاون, الرجال]  \n",
              "2  [جيبوها, لخر, قبايل, كلكم, تعرفو, شكون, هوما, ...  \n",
              "3  [علاه, راهم, يحرڤو, ستناو, دزاير, الجديدة, راه...  \n",
              "4  [الله, يعاونكم, انا, شاء, الله, وهنيكم, المسءل...  "
            ],
            "text/html": [
              "\n",
              "  <div id=\"df-176e1399-d34b-4577-9ab9-12ed0a2ba78a\">\n",
              "    <div class=\"colab-df-container\">\n",
              "      <div>\n",
              "<style scoped>\n",
              "    .dataframe tbody tr th:only-of-type {\n",
              "        vertical-align: middle;\n",
              "    }\n",
              "\n",
              "    .dataframe tbody tr th {\n",
              "        vertical-align: top;\n",
              "    }\n",
              "\n",
              "    .dataframe thead th {\n",
              "        text-align: right;\n",
              "    }\n",
              "</style>\n",
              "<table border=\"1\" class=\"dataframe\">\n",
              "  <thead>\n",
              "    <tr style=\"text-align: right;\">\n",
              "      <th></th>\n",
              "      <th>comment</th>\n",
              "      <th>pol</th>\n",
              "      <th>Topic</th>\n",
              "      <th>diacritics</th>\n",
              "      <th>normalized</th>\n",
              "      <th>whitespace</th>\n",
              "      <th>symboles</th>\n",
              "      <th>token</th>\n",
              "      <th>stpwrds</th>\n",
              "    </tr>\n",
              "  </thead>\n",
              "  <tbody>\n",
              "    <tr>\n",
              "      <th>0</th>\n",
              "      <td>وعلاه خايفين تقعدو فيها وحدكم 😁</td>\n",
              "      <td>1</td>\n",
              "      <td>politique</td>\n",
              "      <td>وعلاه خايفين تقعدو فيها وحدكم 😁</td>\n",
              "      <td>وعلاه خايفين تقعدو فيها وحدكم 😁</td>\n",
              "      <td>وعلاه خايفين تقعدو فيها وحدكم 😁</td>\n",
              "      <td>وعلاه خايفين تقعدو فيها وحدكم</td>\n",
              "      <td>[وعلاه, خايفين, تقعدو, فيها, وحدكم]</td>\n",
              "      <td>[وعلاه, خايفين, تقعدو, وحدكم]</td>\n",
              "    </tr>\n",
              "    <tr>\n",
              "      <th>1</th>\n",
              "      <td>😎 ربي يعاون الرجال</td>\n",
              "      <td>1</td>\n",
              "      <td>sociale</td>\n",
              "      <td>😎 ربي يعاون الرجال</td>\n",
              "      <td>😎 ربي يعاون الرجال</td>\n",
              "      <td>😎 ربي يعاون الرجال</td>\n",
              "      <td>ربي يعاون الرجال</td>\n",
              "      <td>[ربي, يعاون, الرجال]</td>\n",
              "      <td>[ربي, يعاون, الرجال]</td>\n",
              "    </tr>\n",
              "    <tr>\n",
              "      <th>2</th>\n",
              "      <td>جيبوها من لخر     قبايل   و كلكم تعرفو شكون هو...</td>\n",
              "      <td>1</td>\n",
              "      <td>sociale</td>\n",
              "      <td>جيبوها من لخر     قبايل   و كلكم تعرفو شكون هو...</td>\n",
              "      <td>جيبوها من لخر     قبايل   و كلكم تعرفو شكون هو...</td>\n",
              "      <td>جيبوها من لخر     قبايل   و كلكم تعرفو شكون هو...</td>\n",
              "      <td>جيبوها من لخر     قبايل   و كلكم تعرفو شكون هو...</td>\n",
              "      <td>[جيبوها, من, لخر, قبايل, و, كلكم, تعرفو, شكون,...</td>\n",
              "      <td>[جيبوها, لخر, قبايل, كلكم, تعرفو, شكون, هوما, ...</td>\n",
              "    </tr>\n",
              "    <tr>\n",
              "      <th>3</th>\n",
              "      <td>علاه راهم يحرڤو 🤔ستناو دزاير الجديدة راهي جاية</td>\n",
              "      <td>1</td>\n",
              "      <td>politique</td>\n",
              "      <td>علاه راهم يحرڤو 🤔ستناو دزاير الجديدة راهي جاية</td>\n",
              "      <td>علاه راهم يحرڤو 🤔ستناو دزاير الجديدة راهي جاية</td>\n",
              "      <td>علاه راهم يحرڤو 🤔ستناو دزاير الجديدة راهي جاية</td>\n",
              "      <td>علاه راهم يحرڤو  ستناو دزاير الجديدة راهي جاية</td>\n",
              "      <td>[علاه, راهم, يحرڤو, ستناو, دزاير, الجديدة, راه...</td>\n",
              "      <td>[علاه, راهم, يحرڤو, ستناو, دزاير, الجديدة, راه...</td>\n",
              "    </tr>\n",
              "    <tr>\n",
              "      <th>4</th>\n",
              "      <td>الله يعاونكم انا شاء الله وهنيكم من المسؤلين ا...</td>\n",
              "      <td>1</td>\n",
              "      <td>politique</td>\n",
              "      <td>الله يعاونكم انا شاء الله وهنيكم من المسؤلين ا...</td>\n",
              "      <td>الله يعاونكم انا شاء الله وهنيكم من المسءلين ا...</td>\n",
              "      <td>الله يعاونكم انا شاء الله وهنيكم من المسءلين ا...</td>\n",
              "      <td>الله يعاونكم انا شاء الله وهنيكم من المسءلين ا...</td>\n",
              "      <td>[الله, يعاونكم, انا, شاء, الله, وهنيكم, من, ال...</td>\n",
              "      <td>[الله, يعاونكم, انا, شاء, الله, وهنيكم, المسءل...</td>\n",
              "    </tr>\n",
              "  </tbody>\n",
              "</table>\n",
              "</div>\n",
              "      <button class=\"colab-df-convert\" onclick=\"convertToInteractive('df-176e1399-d34b-4577-9ab9-12ed0a2ba78a')\"\n",
              "              title=\"Convert this dataframe to an interactive table.\"\n",
              "              style=\"display:none;\">\n",
              "        \n",
              "  <svg xmlns=\"http://www.w3.org/2000/svg\" height=\"24px\"viewBox=\"0 0 24 24\"\n",
              "       width=\"24px\">\n",
              "    <path d=\"M0 0h24v24H0V0z\" fill=\"none\"/>\n",
              "    <path d=\"M18.56 5.44l.94 2.06.94-2.06 2.06-.94-2.06-.94-.94-2.06-.94 2.06-2.06.94zm-11 1L8.5 8.5l.94-2.06 2.06-.94-2.06-.94L8.5 2.5l-.94 2.06-2.06.94zm10 10l.94 2.06.94-2.06 2.06-.94-2.06-.94-.94-2.06-.94 2.06-2.06.94z\"/><path d=\"M17.41 7.96l-1.37-1.37c-.4-.4-.92-.59-1.43-.59-.52 0-1.04.2-1.43.59L10.3 9.45l-7.72 7.72c-.78.78-.78 2.05 0 2.83L4 21.41c.39.39.9.59 1.41.59.51 0 1.02-.2 1.41-.59l7.78-7.78 2.81-2.81c.8-.78.8-2.07 0-2.86zM5.41 20L4 18.59l7.72-7.72 1.47 1.35L5.41 20z\"/>\n",
              "  </svg>\n",
              "      </button>\n",
              "      \n",
              "  <style>\n",
              "    .colab-df-container {\n",
              "      display:flex;\n",
              "      flex-wrap:wrap;\n",
              "      gap: 12px;\n",
              "    }\n",
              "\n",
              "    .colab-df-convert {\n",
              "      background-color: #E8F0FE;\n",
              "      border: none;\n",
              "      border-radius: 50%;\n",
              "      cursor: pointer;\n",
              "      display: none;\n",
              "      fill: #1967D2;\n",
              "      height: 32px;\n",
              "      padding: 0 0 0 0;\n",
              "      width: 32px;\n",
              "    }\n",
              "\n",
              "    .colab-df-convert:hover {\n",
              "      background-color: #E2EBFA;\n",
              "      box-shadow: 0px 1px 2px rgba(60, 64, 67, 0.3), 0px 1px 3px 1px rgba(60, 64, 67, 0.15);\n",
              "      fill: #174EA6;\n",
              "    }\n",
              "\n",
              "    [theme=dark] .colab-df-convert {\n",
              "      background-color: #3B4455;\n",
              "      fill: #D2E3FC;\n",
              "    }\n",
              "\n",
              "    [theme=dark] .colab-df-convert:hover {\n",
              "      background-color: #434B5C;\n",
              "      box-shadow: 0px 1px 3px 1px rgba(0, 0, 0, 0.15);\n",
              "      filter: drop-shadow(0px 1px 2px rgba(0, 0, 0, 0.3));\n",
              "      fill: #FFFFFF;\n",
              "    }\n",
              "  </style>\n",
              "\n",
              "      <script>\n",
              "        const buttonEl =\n",
              "          document.querySelector('#df-176e1399-d34b-4577-9ab9-12ed0a2ba78a button.colab-df-convert');\n",
              "        buttonEl.style.display =\n",
              "          google.colab.kernel.accessAllowed ? 'block' : 'none';\n",
              "\n",
              "        async function convertToInteractive(key) {\n",
              "          const element = document.querySelector('#df-176e1399-d34b-4577-9ab9-12ed0a2ba78a');\n",
              "          const dataTable =\n",
              "            await google.colab.kernel.invokeFunction('convertToInteractive',\n",
              "                                                     [key], {});\n",
              "          if (!dataTable) return;\n",
              "\n",
              "          const docLinkHtml = 'Like what you see? Visit the ' +\n",
              "            '<a target=\"_blank\" href=https://colab.research.google.com/notebooks/data_table.ipynb>data table notebook</a>'\n",
              "            + ' to learn more about interactive tables.';\n",
              "          element.innerHTML = '';\n",
              "          dataTable['output_type'] = 'display_data';\n",
              "          await google.colab.output.renderOutput(dataTable, element);\n",
              "          const docLink = document.createElement('div');\n",
              "          docLink.innerHTML = docLinkHtml;\n",
              "          element.appendChild(docLink);\n",
              "        }\n",
              "      </script>\n",
              "    </div>\n",
              "  </div>\n",
              "  "
            ]
          },
          "metadata": {},
          "execution_count": 18
        }
      ],
      "source": [
        "data['stpwrds'] = data['token'].apply(remove_stopwords)\n",
        "data.head()"
      ]
    },
    {
      "cell_type": "code",
      "execution_count": 19,
      "metadata": {
        "id": "dbNItt-gY4Yf"
      },
      "outputs": [],
      "source": [
        "#remove Algerian stop_words\n",
        "def Alg_stopwords(text):\n",
        "    return [word for word in text if word not in Alg_stop_words]"
      ]
    },
    {
      "cell_type": "code",
      "execution_count": 20,
      "metadata": {
        "colab": {
          "base_uri": "https://localhost:8080/",
          "height": 0
        },
        "id": "TZsa7uPWZBz6",
        "outputId": "43d1a389-60d2-44c3-be85-3fe2cbc175e8"
      },
      "outputs": [
        {
          "output_type": "execute_result",
          "data": {
            "text/plain": [
              "                                             comment  pol      Topic  \\\n",
              "0                    وعلاه خايفين تقعدو فيها وحدكم 😁    1  politique   \n",
              "1                                 😎 ربي يعاون الرجال    1    sociale   \n",
              "2  جيبوها من لخر     قبايل   و كلكم تعرفو شكون هو...    1    sociale   \n",
              "3     علاه راهم يحرڤو 🤔ستناو دزاير الجديدة راهي جاية    1  politique   \n",
              "4  الله يعاونكم انا شاء الله وهنيكم من المسؤلين ا...    1  politique   \n",
              "\n",
              "                                          diacritics  \\\n",
              "0                    وعلاه خايفين تقعدو فيها وحدكم 😁   \n",
              "1                                 😎 ربي يعاون الرجال   \n",
              "2  جيبوها من لخر     قبايل   و كلكم تعرفو شكون هو...   \n",
              "3     علاه راهم يحرڤو 🤔ستناو دزاير الجديدة راهي جاية   \n",
              "4  الله يعاونكم انا شاء الله وهنيكم من المسؤلين ا...   \n",
              "\n",
              "                                          normalized  \\\n",
              "0                    وعلاه خايفين تقعدو فيها وحدكم 😁   \n",
              "1                                 😎 ربي يعاون الرجال   \n",
              "2  جيبوها من لخر     قبايل   و كلكم تعرفو شكون هو...   \n",
              "3     علاه راهم يحرڤو 🤔ستناو دزاير الجديدة راهي جاية   \n",
              "4  الله يعاونكم انا شاء الله وهنيكم من المسءلين ا...   \n",
              "\n",
              "                                          whitespace  \\\n",
              "0                    وعلاه خايفين تقعدو فيها وحدكم 😁   \n",
              "1                                 😎 ربي يعاون الرجال   \n",
              "2  جيبوها من لخر     قبايل   و كلكم تعرفو شكون هو...   \n",
              "3     علاه راهم يحرڤو 🤔ستناو دزاير الجديدة راهي جاية   \n",
              "4  الله يعاونكم انا شاء الله وهنيكم من المسءلين ا...   \n",
              "\n",
              "                                            symboles  \\\n",
              "0                    وعلاه خايفين تقعدو فيها وحدكم     \n",
              "1                                   ربي يعاون الرجال   \n",
              "2  جيبوها من لخر     قبايل   و كلكم تعرفو شكون هو...   \n",
              "3     علاه راهم يحرڤو  ستناو دزاير الجديدة راهي جاية   \n",
              "4  الله يعاونكم انا شاء الله وهنيكم من المسءلين ا...   \n",
              "\n",
              "                                               token  \\\n",
              "0                [وعلاه, خايفين, تقعدو, فيها, وحدكم]   \n",
              "1                               [ربي, يعاون, الرجال]   \n",
              "2  [جيبوها, من, لخر, قبايل, و, كلكم, تعرفو, شكون,...   \n",
              "3  [علاه, راهم, يحرڤو, ستناو, دزاير, الجديدة, راه...   \n",
              "4  [الله, يعاونكم, انا, شاء, الله, وهنيكم, من, ال...   \n",
              "\n",
              "                                             stpwrds  \\\n",
              "0                      [وعلاه, خايفين, تقعدو, وحدكم]   \n",
              "1                               [ربي, يعاون, الرجال]   \n",
              "2  [جيبوها, لخر, قبايل, كلكم, تعرفو, شكون, هوما, ...   \n",
              "3  [علاه, راهم, يحرڤو, ستناو, دزاير, الجديدة, راه...   \n",
              "4  [الله, يعاونكم, انا, شاء, الله, وهنيكم, المسءل...   \n",
              "\n",
              "                                                 Alg  \n",
              "0                      [وعلاه, خايفين, تقعدو, وحدكم]  \n",
              "1                               [ربي, يعاون, الرجال]  \n",
              "2  [جيبوها, لخر, قبايل, كلكم, تعرفو, شكون, ربي, ي...  \n",
              "3   [علاه, راهم, يحرڤو, ستناو, دزاير, الجديدة, جاية]  \n",
              "4  [الله, يعاونكم, شاء, الله, وهنيكم, المسءلين, ا...  "
            ],
            "text/html": [
              "\n",
              "  <div id=\"df-1be826f6-4b21-4dff-885f-87e383ca243b\">\n",
              "    <div class=\"colab-df-container\">\n",
              "      <div>\n",
              "<style scoped>\n",
              "    .dataframe tbody tr th:only-of-type {\n",
              "        vertical-align: middle;\n",
              "    }\n",
              "\n",
              "    .dataframe tbody tr th {\n",
              "        vertical-align: top;\n",
              "    }\n",
              "\n",
              "    .dataframe thead th {\n",
              "        text-align: right;\n",
              "    }\n",
              "</style>\n",
              "<table border=\"1\" class=\"dataframe\">\n",
              "  <thead>\n",
              "    <tr style=\"text-align: right;\">\n",
              "      <th></th>\n",
              "      <th>comment</th>\n",
              "      <th>pol</th>\n",
              "      <th>Topic</th>\n",
              "      <th>diacritics</th>\n",
              "      <th>normalized</th>\n",
              "      <th>whitespace</th>\n",
              "      <th>symboles</th>\n",
              "      <th>token</th>\n",
              "      <th>stpwrds</th>\n",
              "      <th>Alg</th>\n",
              "    </tr>\n",
              "  </thead>\n",
              "  <tbody>\n",
              "    <tr>\n",
              "      <th>0</th>\n",
              "      <td>وعلاه خايفين تقعدو فيها وحدكم 😁</td>\n",
              "      <td>1</td>\n",
              "      <td>politique</td>\n",
              "      <td>وعلاه خايفين تقعدو فيها وحدكم 😁</td>\n",
              "      <td>وعلاه خايفين تقعدو فيها وحدكم 😁</td>\n",
              "      <td>وعلاه خايفين تقعدو فيها وحدكم 😁</td>\n",
              "      <td>وعلاه خايفين تقعدو فيها وحدكم</td>\n",
              "      <td>[وعلاه, خايفين, تقعدو, فيها, وحدكم]</td>\n",
              "      <td>[وعلاه, خايفين, تقعدو, وحدكم]</td>\n",
              "      <td>[وعلاه, خايفين, تقعدو, وحدكم]</td>\n",
              "    </tr>\n",
              "    <tr>\n",
              "      <th>1</th>\n",
              "      <td>😎 ربي يعاون الرجال</td>\n",
              "      <td>1</td>\n",
              "      <td>sociale</td>\n",
              "      <td>😎 ربي يعاون الرجال</td>\n",
              "      <td>😎 ربي يعاون الرجال</td>\n",
              "      <td>😎 ربي يعاون الرجال</td>\n",
              "      <td>ربي يعاون الرجال</td>\n",
              "      <td>[ربي, يعاون, الرجال]</td>\n",
              "      <td>[ربي, يعاون, الرجال]</td>\n",
              "      <td>[ربي, يعاون, الرجال]</td>\n",
              "    </tr>\n",
              "    <tr>\n",
              "      <th>2</th>\n",
              "      <td>جيبوها من لخر     قبايل   و كلكم تعرفو شكون هو...</td>\n",
              "      <td>1</td>\n",
              "      <td>sociale</td>\n",
              "      <td>جيبوها من لخر     قبايل   و كلكم تعرفو شكون هو...</td>\n",
              "      <td>جيبوها من لخر     قبايل   و كلكم تعرفو شكون هو...</td>\n",
              "      <td>جيبوها من لخر     قبايل   و كلكم تعرفو شكون هو...</td>\n",
              "      <td>جيبوها من لخر     قبايل   و كلكم تعرفو شكون هو...</td>\n",
              "      <td>[جيبوها, من, لخر, قبايل, و, كلكم, تعرفو, شكون,...</td>\n",
              "      <td>[جيبوها, لخر, قبايل, كلكم, تعرفو, شكون, هوما, ...</td>\n",
              "      <td>[جيبوها, لخر, قبايل, كلكم, تعرفو, شكون, ربي, ي...</td>\n",
              "    </tr>\n",
              "    <tr>\n",
              "      <th>3</th>\n",
              "      <td>علاه راهم يحرڤو 🤔ستناو دزاير الجديدة راهي جاية</td>\n",
              "      <td>1</td>\n",
              "      <td>politique</td>\n",
              "      <td>علاه راهم يحرڤو 🤔ستناو دزاير الجديدة راهي جاية</td>\n",
              "      <td>علاه راهم يحرڤو 🤔ستناو دزاير الجديدة راهي جاية</td>\n",
              "      <td>علاه راهم يحرڤو 🤔ستناو دزاير الجديدة راهي جاية</td>\n",
              "      <td>علاه راهم يحرڤو  ستناو دزاير الجديدة راهي جاية</td>\n",
              "      <td>[علاه, راهم, يحرڤو, ستناو, دزاير, الجديدة, راه...</td>\n",
              "      <td>[علاه, راهم, يحرڤو, ستناو, دزاير, الجديدة, راه...</td>\n",
              "      <td>[علاه, راهم, يحرڤو, ستناو, دزاير, الجديدة, جاية]</td>\n",
              "    </tr>\n",
              "    <tr>\n",
              "      <th>4</th>\n",
              "      <td>الله يعاونكم انا شاء الله وهنيكم من المسؤلين ا...</td>\n",
              "      <td>1</td>\n",
              "      <td>politique</td>\n",
              "      <td>الله يعاونكم انا شاء الله وهنيكم من المسؤلين ا...</td>\n",
              "      <td>الله يعاونكم انا شاء الله وهنيكم من المسءلين ا...</td>\n",
              "      <td>الله يعاونكم انا شاء الله وهنيكم من المسءلين ا...</td>\n",
              "      <td>الله يعاونكم انا شاء الله وهنيكم من المسءلين ا...</td>\n",
              "      <td>[الله, يعاونكم, انا, شاء, الله, وهنيكم, من, ال...</td>\n",
              "      <td>[الله, يعاونكم, انا, شاء, الله, وهنيكم, المسءل...</td>\n",
              "      <td>[الله, يعاونكم, شاء, الله, وهنيكم, المسءلين, ا...</td>\n",
              "    </tr>\n",
              "  </tbody>\n",
              "</table>\n",
              "</div>\n",
              "      <button class=\"colab-df-convert\" onclick=\"convertToInteractive('df-1be826f6-4b21-4dff-885f-87e383ca243b')\"\n",
              "              title=\"Convert this dataframe to an interactive table.\"\n",
              "              style=\"display:none;\">\n",
              "        \n",
              "  <svg xmlns=\"http://www.w3.org/2000/svg\" height=\"24px\"viewBox=\"0 0 24 24\"\n",
              "       width=\"24px\">\n",
              "    <path d=\"M0 0h24v24H0V0z\" fill=\"none\"/>\n",
              "    <path d=\"M18.56 5.44l.94 2.06.94-2.06 2.06-.94-2.06-.94-.94-2.06-.94 2.06-2.06.94zm-11 1L8.5 8.5l.94-2.06 2.06-.94-2.06-.94L8.5 2.5l-.94 2.06-2.06.94zm10 10l.94 2.06.94-2.06 2.06-.94-2.06-.94-.94-2.06-.94 2.06-2.06.94z\"/><path d=\"M17.41 7.96l-1.37-1.37c-.4-.4-.92-.59-1.43-.59-.52 0-1.04.2-1.43.59L10.3 9.45l-7.72 7.72c-.78.78-.78 2.05 0 2.83L4 21.41c.39.39.9.59 1.41.59.51 0 1.02-.2 1.41-.59l7.78-7.78 2.81-2.81c.8-.78.8-2.07 0-2.86zM5.41 20L4 18.59l7.72-7.72 1.47 1.35L5.41 20z\"/>\n",
              "  </svg>\n",
              "      </button>\n",
              "      \n",
              "  <style>\n",
              "    .colab-df-container {\n",
              "      display:flex;\n",
              "      flex-wrap:wrap;\n",
              "      gap: 12px;\n",
              "    }\n",
              "\n",
              "    .colab-df-convert {\n",
              "      background-color: #E8F0FE;\n",
              "      border: none;\n",
              "      border-radius: 50%;\n",
              "      cursor: pointer;\n",
              "      display: none;\n",
              "      fill: #1967D2;\n",
              "      height: 32px;\n",
              "      padding: 0 0 0 0;\n",
              "      width: 32px;\n",
              "    }\n",
              "\n",
              "    .colab-df-convert:hover {\n",
              "      background-color: #E2EBFA;\n",
              "      box-shadow: 0px 1px 2px rgba(60, 64, 67, 0.3), 0px 1px 3px 1px rgba(60, 64, 67, 0.15);\n",
              "      fill: #174EA6;\n",
              "    }\n",
              "\n",
              "    [theme=dark] .colab-df-convert {\n",
              "      background-color: #3B4455;\n",
              "      fill: #D2E3FC;\n",
              "    }\n",
              "\n",
              "    [theme=dark] .colab-df-convert:hover {\n",
              "      background-color: #434B5C;\n",
              "      box-shadow: 0px 1px 3px 1px rgba(0, 0, 0, 0.15);\n",
              "      filter: drop-shadow(0px 1px 2px rgba(0, 0, 0, 0.3));\n",
              "      fill: #FFFFFF;\n",
              "    }\n",
              "  </style>\n",
              "\n",
              "      <script>\n",
              "        const buttonEl =\n",
              "          document.querySelector('#df-1be826f6-4b21-4dff-885f-87e383ca243b button.colab-df-convert');\n",
              "        buttonEl.style.display =\n",
              "          google.colab.kernel.accessAllowed ? 'block' : 'none';\n",
              "\n",
              "        async function convertToInteractive(key) {\n",
              "          const element = document.querySelector('#df-1be826f6-4b21-4dff-885f-87e383ca243b');\n",
              "          const dataTable =\n",
              "            await google.colab.kernel.invokeFunction('convertToInteractive',\n",
              "                                                     [key], {});\n",
              "          if (!dataTable) return;\n",
              "\n",
              "          const docLinkHtml = 'Like what you see? Visit the ' +\n",
              "            '<a target=\"_blank\" href=https://colab.research.google.com/notebooks/data_table.ipynb>data table notebook</a>'\n",
              "            + ' to learn more about interactive tables.';\n",
              "          element.innerHTML = '';\n",
              "          dataTable['output_type'] = 'display_data';\n",
              "          await google.colab.output.renderOutput(dataTable, element);\n",
              "          const docLink = document.createElement('div');\n",
              "          docLink.innerHTML = docLinkHtml;\n",
              "          element.appendChild(docLink);\n",
              "        }\n",
              "      </script>\n",
              "    </div>\n",
              "  </div>\n",
              "  "
            ]
          },
          "metadata": {},
          "execution_count": 20
        }
      ],
      "source": [
        "data['Alg'] = data['stpwrds'].apply(Alg_stopwords)\n",
        "data.head()"
      ]
    },
    {
      "cell_type": "code",
      "execution_count": 21,
      "metadata": {
        "id": "RiubKU0BY9sv"
      },
      "outputs": [],
      "source": [
        "#stemming\n",
        "\n",
        "def light_stem(text):\n",
        "    #words = text.split()\n",
        "    result = list()\n",
        "    stemmer = ISRIStemmer()\n",
        "    for word in text:\n",
        "        word = stemmer.norm(word, num=1)      # remove diacritics which representing Arabic short vowels\n",
        "        if not word in stemmer.stop_words:    # exclude stop words from being processed\n",
        "            word = stemmer.pre32(word)        # remove length three and length two prefixes in this order\n",
        "            word = stemmer.suf32(word)        # remove length three and length two suffixes in this order\n",
        "            word = stemmer.waw(word)          # remove connective ‘و’ if it precedes a word beginning with ‘و’\n",
        "            word = stemmer.norm(word, num=2)  # normalize initial hamza to bare alif\n",
        "        result.append(word)\n",
        "    return ' '.join(result)"
      ]
    },
    {
      "cell_type": "code",
      "execution_count": 22,
      "metadata": {
        "colab": {
          "base_uri": "https://localhost:8080/",
          "height": 0
        },
        "id": "3JjJdrFRZBKr",
        "outputId": "c3e8ad18-0395-4d50-a759-10599dd1a1bb"
      },
      "outputs": [
        {
          "output_type": "execute_result",
          "data": {
            "text/plain": [
              "                                             comment  pol      Topic  \\\n",
              "0                    وعلاه خايفين تقعدو فيها وحدكم 😁    1  politique   \n",
              "1                                 😎 ربي يعاون الرجال    1    sociale   \n",
              "2  جيبوها من لخر     قبايل   و كلكم تعرفو شكون هو...    1    sociale   \n",
              "3     علاه راهم يحرڤو 🤔ستناو دزاير الجديدة راهي جاية    1  politique   \n",
              "4  الله يعاونكم انا شاء الله وهنيكم من المسؤلين ا...    1  politique   \n",
              "\n",
              "                                          diacritics  \\\n",
              "0                    وعلاه خايفين تقعدو فيها وحدكم 😁   \n",
              "1                                 😎 ربي يعاون الرجال   \n",
              "2  جيبوها من لخر     قبايل   و كلكم تعرفو شكون هو...   \n",
              "3     علاه راهم يحرڤو 🤔ستناو دزاير الجديدة راهي جاية   \n",
              "4  الله يعاونكم انا شاء الله وهنيكم من المسؤلين ا...   \n",
              "\n",
              "                                          normalized  \\\n",
              "0                    وعلاه خايفين تقعدو فيها وحدكم 😁   \n",
              "1                                 😎 ربي يعاون الرجال   \n",
              "2  جيبوها من لخر     قبايل   و كلكم تعرفو شكون هو...   \n",
              "3     علاه راهم يحرڤو 🤔ستناو دزاير الجديدة راهي جاية   \n",
              "4  الله يعاونكم انا شاء الله وهنيكم من المسءلين ا...   \n",
              "\n",
              "                                          whitespace  \\\n",
              "0                    وعلاه خايفين تقعدو فيها وحدكم 😁   \n",
              "1                                 😎 ربي يعاون الرجال   \n",
              "2  جيبوها من لخر     قبايل   و كلكم تعرفو شكون هو...   \n",
              "3     علاه راهم يحرڤو 🤔ستناو دزاير الجديدة راهي جاية   \n",
              "4  الله يعاونكم انا شاء الله وهنيكم من المسءلين ا...   \n",
              "\n",
              "                                            symboles  \\\n",
              "0                    وعلاه خايفين تقعدو فيها وحدكم     \n",
              "1                                   ربي يعاون الرجال   \n",
              "2  جيبوها من لخر     قبايل   و كلكم تعرفو شكون هو...   \n",
              "3     علاه راهم يحرڤو  ستناو دزاير الجديدة راهي جاية   \n",
              "4  الله يعاونكم انا شاء الله وهنيكم من المسءلين ا...   \n",
              "\n",
              "                                               token  \\\n",
              "0                [وعلاه, خايفين, تقعدو, فيها, وحدكم]   \n",
              "1                               [ربي, يعاون, الرجال]   \n",
              "2  [جيبوها, من, لخر, قبايل, و, كلكم, تعرفو, شكون,...   \n",
              "3  [علاه, راهم, يحرڤو, ستناو, دزاير, الجديدة, راه...   \n",
              "4  [الله, يعاونكم, انا, شاء, الله, وهنيكم, من, ال...   \n",
              "\n",
              "                                             stpwrds  \\\n",
              "0                      [وعلاه, خايفين, تقعدو, وحدكم]   \n",
              "1                               [ربي, يعاون, الرجال]   \n",
              "2  [جيبوها, لخر, قبايل, كلكم, تعرفو, شكون, هوما, ...   \n",
              "3  [علاه, راهم, يحرڤو, ستناو, دزاير, الجديدة, راه...   \n",
              "4  [الله, يعاونكم, انا, شاء, الله, وهنيكم, المسءل...   \n",
              "\n",
              "                                                 Alg  \\\n",
              "0                      [وعلاه, خايفين, تقعدو, وحدكم]   \n",
              "1                               [ربي, يعاون, الرجال]   \n",
              "2  [جيبوها, لخر, قبايل, كلكم, تعرفو, شكون, ربي, ي...   \n",
              "3   [علاه, راهم, يحرڤو, ستناو, دزاير, الجديدة, جاية]   \n",
              "4  [الله, يعاونكم, شاء, الله, وهنيكم, المسءلين, ا...   \n",
              "\n",
              "                                                stem  \n",
              "0                               وعلاه خايف تقعدو وحد  \n",
              "1                                       ربي يعا رجال  \n",
              "2  جيبو لخر قبايل كلكم تعرفو شكون ربي يعاون يخدمو...  \n",
              "3             علاه راهم يحرڤو ستناو دزاير جديدة جاية  \n",
              "4                 الله يعاون شاء الله وهني مسءل سراق  "
            ],
            "text/html": [
              "\n",
              "  <div id=\"df-42106944-b38e-4c9a-9bc5-9186bd9aa217\">\n",
              "    <div class=\"colab-df-container\">\n",
              "      <div>\n",
              "<style scoped>\n",
              "    .dataframe tbody tr th:only-of-type {\n",
              "        vertical-align: middle;\n",
              "    }\n",
              "\n",
              "    .dataframe tbody tr th {\n",
              "        vertical-align: top;\n",
              "    }\n",
              "\n",
              "    .dataframe thead th {\n",
              "        text-align: right;\n",
              "    }\n",
              "</style>\n",
              "<table border=\"1\" class=\"dataframe\">\n",
              "  <thead>\n",
              "    <tr style=\"text-align: right;\">\n",
              "      <th></th>\n",
              "      <th>comment</th>\n",
              "      <th>pol</th>\n",
              "      <th>Topic</th>\n",
              "      <th>diacritics</th>\n",
              "      <th>normalized</th>\n",
              "      <th>whitespace</th>\n",
              "      <th>symboles</th>\n",
              "      <th>token</th>\n",
              "      <th>stpwrds</th>\n",
              "      <th>Alg</th>\n",
              "      <th>stem</th>\n",
              "    </tr>\n",
              "  </thead>\n",
              "  <tbody>\n",
              "    <tr>\n",
              "      <th>0</th>\n",
              "      <td>وعلاه خايفين تقعدو فيها وحدكم 😁</td>\n",
              "      <td>1</td>\n",
              "      <td>politique</td>\n",
              "      <td>وعلاه خايفين تقعدو فيها وحدكم 😁</td>\n",
              "      <td>وعلاه خايفين تقعدو فيها وحدكم 😁</td>\n",
              "      <td>وعلاه خايفين تقعدو فيها وحدكم 😁</td>\n",
              "      <td>وعلاه خايفين تقعدو فيها وحدكم</td>\n",
              "      <td>[وعلاه, خايفين, تقعدو, فيها, وحدكم]</td>\n",
              "      <td>[وعلاه, خايفين, تقعدو, وحدكم]</td>\n",
              "      <td>[وعلاه, خايفين, تقعدو, وحدكم]</td>\n",
              "      <td>وعلاه خايف تقعدو وحد</td>\n",
              "    </tr>\n",
              "    <tr>\n",
              "      <th>1</th>\n",
              "      <td>😎 ربي يعاون الرجال</td>\n",
              "      <td>1</td>\n",
              "      <td>sociale</td>\n",
              "      <td>😎 ربي يعاون الرجال</td>\n",
              "      <td>😎 ربي يعاون الرجال</td>\n",
              "      <td>😎 ربي يعاون الرجال</td>\n",
              "      <td>ربي يعاون الرجال</td>\n",
              "      <td>[ربي, يعاون, الرجال]</td>\n",
              "      <td>[ربي, يعاون, الرجال]</td>\n",
              "      <td>[ربي, يعاون, الرجال]</td>\n",
              "      <td>ربي يعا رجال</td>\n",
              "    </tr>\n",
              "    <tr>\n",
              "      <th>2</th>\n",
              "      <td>جيبوها من لخر     قبايل   و كلكم تعرفو شكون هو...</td>\n",
              "      <td>1</td>\n",
              "      <td>sociale</td>\n",
              "      <td>جيبوها من لخر     قبايل   و كلكم تعرفو شكون هو...</td>\n",
              "      <td>جيبوها من لخر     قبايل   و كلكم تعرفو شكون هو...</td>\n",
              "      <td>جيبوها من لخر     قبايل   و كلكم تعرفو شكون هو...</td>\n",
              "      <td>جيبوها من لخر     قبايل   و كلكم تعرفو شكون هو...</td>\n",
              "      <td>[جيبوها, من, لخر, قبايل, و, كلكم, تعرفو, شكون,...</td>\n",
              "      <td>[جيبوها, لخر, قبايل, كلكم, تعرفو, شكون, هوما, ...</td>\n",
              "      <td>[جيبوها, لخر, قبايل, كلكم, تعرفو, شكون, ربي, ي...</td>\n",
              "      <td>جيبو لخر قبايل كلكم تعرفو شكون ربي يعاون يخدمو...</td>\n",
              "    </tr>\n",
              "    <tr>\n",
              "      <th>3</th>\n",
              "      <td>علاه راهم يحرڤو 🤔ستناو دزاير الجديدة راهي جاية</td>\n",
              "      <td>1</td>\n",
              "      <td>politique</td>\n",
              "      <td>علاه راهم يحرڤو 🤔ستناو دزاير الجديدة راهي جاية</td>\n",
              "      <td>علاه راهم يحرڤو 🤔ستناو دزاير الجديدة راهي جاية</td>\n",
              "      <td>علاه راهم يحرڤو 🤔ستناو دزاير الجديدة راهي جاية</td>\n",
              "      <td>علاه راهم يحرڤو  ستناو دزاير الجديدة راهي جاية</td>\n",
              "      <td>[علاه, راهم, يحرڤو, ستناو, دزاير, الجديدة, راه...</td>\n",
              "      <td>[علاه, راهم, يحرڤو, ستناو, دزاير, الجديدة, راه...</td>\n",
              "      <td>[علاه, راهم, يحرڤو, ستناو, دزاير, الجديدة, جاية]</td>\n",
              "      <td>علاه راهم يحرڤو ستناو دزاير جديدة جاية</td>\n",
              "    </tr>\n",
              "    <tr>\n",
              "      <th>4</th>\n",
              "      <td>الله يعاونكم انا شاء الله وهنيكم من المسؤلين ا...</td>\n",
              "      <td>1</td>\n",
              "      <td>politique</td>\n",
              "      <td>الله يعاونكم انا شاء الله وهنيكم من المسؤلين ا...</td>\n",
              "      <td>الله يعاونكم انا شاء الله وهنيكم من المسءلين ا...</td>\n",
              "      <td>الله يعاونكم انا شاء الله وهنيكم من المسءلين ا...</td>\n",
              "      <td>الله يعاونكم انا شاء الله وهنيكم من المسءلين ا...</td>\n",
              "      <td>[الله, يعاونكم, انا, شاء, الله, وهنيكم, من, ال...</td>\n",
              "      <td>[الله, يعاونكم, انا, شاء, الله, وهنيكم, المسءل...</td>\n",
              "      <td>[الله, يعاونكم, شاء, الله, وهنيكم, المسءلين, ا...</td>\n",
              "      <td>الله يعاون شاء الله وهني مسءل سراق</td>\n",
              "    </tr>\n",
              "  </tbody>\n",
              "</table>\n",
              "</div>\n",
              "      <button class=\"colab-df-convert\" onclick=\"convertToInteractive('df-42106944-b38e-4c9a-9bc5-9186bd9aa217')\"\n",
              "              title=\"Convert this dataframe to an interactive table.\"\n",
              "              style=\"display:none;\">\n",
              "        \n",
              "  <svg xmlns=\"http://www.w3.org/2000/svg\" height=\"24px\"viewBox=\"0 0 24 24\"\n",
              "       width=\"24px\">\n",
              "    <path d=\"M0 0h24v24H0V0z\" fill=\"none\"/>\n",
              "    <path d=\"M18.56 5.44l.94 2.06.94-2.06 2.06-.94-2.06-.94-.94-2.06-.94 2.06-2.06.94zm-11 1L8.5 8.5l.94-2.06 2.06-.94-2.06-.94L8.5 2.5l-.94 2.06-2.06.94zm10 10l.94 2.06.94-2.06 2.06-.94-2.06-.94-.94-2.06-.94 2.06-2.06.94z\"/><path d=\"M17.41 7.96l-1.37-1.37c-.4-.4-.92-.59-1.43-.59-.52 0-1.04.2-1.43.59L10.3 9.45l-7.72 7.72c-.78.78-.78 2.05 0 2.83L4 21.41c.39.39.9.59 1.41.59.51 0 1.02-.2 1.41-.59l7.78-7.78 2.81-2.81c.8-.78.8-2.07 0-2.86zM5.41 20L4 18.59l7.72-7.72 1.47 1.35L5.41 20z\"/>\n",
              "  </svg>\n",
              "      </button>\n",
              "      \n",
              "  <style>\n",
              "    .colab-df-container {\n",
              "      display:flex;\n",
              "      flex-wrap:wrap;\n",
              "      gap: 12px;\n",
              "    }\n",
              "\n",
              "    .colab-df-convert {\n",
              "      background-color: #E8F0FE;\n",
              "      border: none;\n",
              "      border-radius: 50%;\n",
              "      cursor: pointer;\n",
              "      display: none;\n",
              "      fill: #1967D2;\n",
              "      height: 32px;\n",
              "      padding: 0 0 0 0;\n",
              "      width: 32px;\n",
              "    }\n",
              "\n",
              "    .colab-df-convert:hover {\n",
              "      background-color: #E2EBFA;\n",
              "      box-shadow: 0px 1px 2px rgba(60, 64, 67, 0.3), 0px 1px 3px 1px rgba(60, 64, 67, 0.15);\n",
              "      fill: #174EA6;\n",
              "    }\n",
              "\n",
              "    [theme=dark] .colab-df-convert {\n",
              "      background-color: #3B4455;\n",
              "      fill: #D2E3FC;\n",
              "    }\n",
              "\n",
              "    [theme=dark] .colab-df-convert:hover {\n",
              "      background-color: #434B5C;\n",
              "      box-shadow: 0px 1px 3px 1px rgba(0, 0, 0, 0.15);\n",
              "      filter: drop-shadow(0px 1px 2px rgba(0, 0, 0, 0.3));\n",
              "      fill: #FFFFFF;\n",
              "    }\n",
              "  </style>\n",
              "\n",
              "      <script>\n",
              "        const buttonEl =\n",
              "          document.querySelector('#df-42106944-b38e-4c9a-9bc5-9186bd9aa217 button.colab-df-convert');\n",
              "        buttonEl.style.display =\n",
              "          google.colab.kernel.accessAllowed ? 'block' : 'none';\n",
              "\n",
              "        async function convertToInteractive(key) {\n",
              "          const element = document.querySelector('#df-42106944-b38e-4c9a-9bc5-9186bd9aa217');\n",
              "          const dataTable =\n",
              "            await google.colab.kernel.invokeFunction('convertToInteractive',\n",
              "                                                     [key], {});\n",
              "          if (!dataTable) return;\n",
              "\n",
              "          const docLinkHtml = 'Like what you see? Visit the ' +\n",
              "            '<a target=\"_blank\" href=https://colab.research.google.com/notebooks/data_table.ipynb>data table notebook</a>'\n",
              "            + ' to learn more about interactive tables.';\n",
              "          element.innerHTML = '';\n",
              "          dataTable['output_type'] = 'display_data';\n",
              "          await google.colab.output.renderOutput(dataTable, element);\n",
              "          const docLink = document.createElement('div');\n",
              "          docLink.innerHTML = docLinkHtml;\n",
              "          element.appendChild(docLink);\n",
              "        }\n",
              "      </script>\n",
              "    </div>\n",
              "  </div>\n",
              "  "
            ]
          },
          "metadata": {},
          "execution_count": 22
        }
      ],
      "source": [
        "data['stem'] = data['Alg'].apply(light_stem)\n",
        "data.head()"
      ]
    },
    {
      "cell_type": "code",
      "execution_count": 23,
      "metadata": {
        "colab": {
          "base_uri": "https://localhost:8080/"
        },
        "id": "_i6QxTrMeozW",
        "outputId": "94b91993-c165-4227-ca63-7545315e6b88"
      },
      "outputs": [
        {
          "output_type": "execute_result",
          "data": {
            "text/plain": [
              "0                                    وعلاه خايف تقعدو وحد\n",
              "1                                            ربي يعا رجال\n",
              "2       جيبو لخر قبايل كلكم تعرفو شكون ربي يعاون يخدمو...\n",
              "3                  علاه راهم يحرڤو ستناو دزاير جديدة جاية\n",
              "4                      الله يعاون شاء الله وهني مسءل سراق\n",
              "                              ...                        \n",
              "4382                           بلاد كاملة تزرع ينبت يدعمو\n",
              "4383    تنقصل زيد ديما غالب هادو تجار اخر زمان قناعة شفقة\n",
              "4384                              لاه منقدروش نعلقو بصورة\n",
              "4385                                      حمدلله ربي عالم\n",
              "4386    نحاو ضريبة علي اكل حيوان رشمو علي لعباد افريق ...\n",
              "Name: stem, Length: 4387, dtype: object"
            ]
          },
          "metadata": {},
          "execution_count": 23
        }
      ],
      "source": [
        "data['stem']"
      ]
    },
    {
      "cell_type": "markdown",
      "metadata": {
        "id": "9IGyxJJiijp8"
      },
      "source": [
        "## Creating word2vec for arabic text classification"
      ]
    },
    {
      "cell_type": "code",
      "execution_count": null,
      "metadata": {
        "id": "MmgPwSPlh1Ee"
      },
      "outputs": [],
      "source": [
        "corpus = (data['stem'])"
      ]
    },
    {
      "cell_type": "code",
      "execution_count": null,
      "metadata": {
        "id": "nAxGhizcE1zn"
      },
      "outputs": [],
      "source": [
        "all_words = [nltk.word_tokenize(sent) for sent in corpus]\n",
        "all_words"
      ]
    },
    {
      "cell_type": "code",
      "source": [
        "L =sum(all_words, [])\n",
        "len(L)"
      ],
      "metadata": {
        "colab": {
          "base_uri": "https://localhost:8080/"
        },
        "id": "JSV5hHCboIe2",
        "outputId": "74e96e32-749c-43e0-cebd-13a039dbf0d1"
      },
      "execution_count": null,
      "outputs": [
        {
          "output_type": "execute_result",
          "data": {
            "text/plain": [
              "55503"
            ]
          },
          "metadata": {},
          "execution_count": 117
        }
      ]
    },
    {
      "cell_type": "code",
      "execution_count": null,
      "metadata": {
        "id": "a4nwxVsrsZYT"
      },
      "outputs": [],
      "source": [
        "from gensim.models import Word2Vec"
      ]
    },
    {
      "cell_type": "code",
      "execution_count": null,
      "metadata": {
        "id": "z4NggViu5bA0"
      },
      "outputs": [],
      "source": [
        "import gensim\n",
        "model = gensim.models.Word2Vec(\n",
        "    all_words,\n",
        "    window=2,\n",
        "    size=64,\n",
        "    min_count=1,\n",
        "    workers = 4\n",
        ")"
      ]
    },
    {
      "cell_type": "code",
      "execution_count": null,
      "metadata": {
        "id": "TvTRV_3258hM"
      },
      "outputs": [],
      "source": [
        "vocabulary = model.wv.vocab\n",
        "vocabulary"
      ]
    },
    {
      "cell_type": "code",
      "source": [
        "len(vocabulary)"
      ],
      "metadata": {
        "colab": {
          "base_uri": "https://localhost:8080/"
        },
        "id": "9I6k1BhkiRLl",
        "outputId": "104efb73-5458-46cd-f6e3-f369eea01d98"
      },
      "execution_count": null,
      "outputs": [
        {
          "output_type": "execute_result",
          "data": {
            "text/plain": [
              "16372"
            ]
          },
          "metadata": {},
          "execution_count": 123
        }
      ]
    },
    {
      "cell_type": "code",
      "execution_count": null,
      "metadata": {
        "id": "4lhXRHEgJtd9"
      },
      "outputs": [],
      "source": [
        "#model.wv['رجال']"
      ]
    },
    {
      "cell_type": "code",
      "execution_count": null,
      "metadata": {
        "id": "oE7afydccS84"
      },
      "outputs": [],
      "source": [
        "#model.wv.most_similar(positive=['خايف'])"
      ]
    },
    {
      "cell_type": "code",
      "execution_count": null,
      "metadata": {
        "id": "yAOULYe9VSOB"
      },
      "outputs": [],
      "source": [
        "model.save(\"word2vec.model\")"
      ]
    },
    {
      "cell_type": "code",
      "execution_count": null,
      "metadata": {
        "id": "Jsi_4fBEYTHA"
      },
      "outputs": [],
      "source": [
        "model = Word2Vec.load(\"word2vec.model\")\n"
      ]
    },
    {
      "cell_type": "code",
      "execution_count": null,
      "metadata": {
        "id": "KULnOsU3I3NG"
      },
      "outputs": [],
      "source": [
        "w2v = model.train(corpus, total_examples=1, epochs=1)"
      ]
    },
    {
      "cell_type": "code",
      "execution_count": null,
      "metadata": {
        "id": "-IOhsc9CLail"
      },
      "outputs": [],
      "source": [
        "word_vectors = model.wv\n",
        "word_vectors.save(\"word2vec.wordvectors\")"
      ]
    },
    {
      "cell_type": "code",
      "execution_count": null,
      "metadata": {
        "id": "HT7q0VAHOa5R"
      },
      "outputs": [],
      "source": [
        "from gensim.models import KeyedVectors\n",
        "wv = KeyedVectors.load(\"word2vec.wordvectors\", mmap='r')"
      ]
    },
    {
      "cell_type": "code",
      "execution_count": null,
      "metadata": {
        "colab": {
          "base_uri": "https://localhost:8080/"
        },
        "id": "WLMx1RRaR1xJ",
        "outputId": "e8a50bfe-4647-4210-8378-73ba3dee1384"
      },
      "outputs": [
        {
          "output_type": "execute_result",
          "data": {
            "text/plain": [
              "['نريد', 'تعديل', 'اجور']"
            ]
          },
          "metadata": {},
          "execution_count": 37
        }
      ],
      "source": [
        "all_words[0]"
      ]
    },
    {
      "cell_type": "code",
      "execution_count": null,
      "metadata": {
        "id": "i3yFnxJJS8on"
      },
      "outputs": [],
      "source": [
        "vector = wv[ all_words[0] ]\n",
        "vector"
      ]
    },
    {
      "cell_type": "markdown",
      "metadata": {
        "id": "tnFoltc8UihV"
      },
      "source": [
        "## Countvectorizer"
      ]
    },
    {
      "cell_type": "code",
      "execution_count": 24,
      "metadata": {
        "id": "UkmcroxKUqiw"
      },
      "outputs": [],
      "source": [
        "from sklearn.feature_extraction.text import CountVectorizer\n",
        "vectorizer=CountVectorizer()"
      ]
    },
    {
      "cell_type": "code",
      "execution_count": 25,
      "metadata": {
        "colab": {
          "base_uri": "https://localhost:8080/"
        },
        "id": "bsF8QVa4Urh4",
        "outputId": "57fd4194-9b33-4e6a-eb42-117c8b0a6daf"
      },
      "outputs": [
        {
          "output_type": "execute_result",
          "data": {
            "text/plain": [
              "sklearn.feature_extraction.text.CountVectorizer"
            ]
          },
          "metadata": {},
          "execution_count": 25
        }
      ],
      "source": [
        "corpus = (data['stem'])\n",
        "vocabulary=vectorizer.fit(corpus)\n",
        "type(vocabulary)"
      ]
    },
    {
      "cell_type": "code",
      "execution_count": 26,
      "metadata": {
        "colab": {
          "base_uri": "https://localhost:8080/"
        },
        "id": "vloAjKbnUuPN",
        "outputId": "6720a3f8-caf1-4b59-9034-0cac5a90b588"
      },
      "outputs": [
        {
          "output_type": "execute_result",
          "data": {
            "text/plain": [
              "(4387, 12388)"
            ]
          },
          "metadata": {},
          "execution_count": 26
        }
      ],
      "source": [
        "X= vectorizer.transform(corpus)\n",
        "X.shape"
      ]
    },
    {
      "cell_type": "code",
      "execution_count": 27,
      "metadata": {
        "id": "9WQCGMRIWMYf"
      },
      "outputs": [],
      "source": [
        "X = X.toarray()"
      ]
    },
    {
      "cell_type": "code",
      "source": [
        "spca = SparsePCA(\n",
        "  n_components=10,\n",
        "  random_state=0\n",
        "  )"
      ],
      "metadata": {
        "id": "Jsa54RZIURet"
      },
      "execution_count": 28,
      "outputs": []
    },
    {
      "cell_type": "code",
      "execution_count": 29,
      "metadata": {
        "id": "S3xLcErgW0az"
      },
      "outputs": [],
      "source": [
        "X = spca.fit_transform(X)"
      ]
    },
    {
      "cell_type": "code",
      "execution_count": 48,
      "metadata": {
        "id": "Hp_nWMoXUuNB"
      },
      "outputs": [],
      "source": [
        "Y = data['pol']"
      ]
    },
    {
      "cell_type": "code",
      "source": [
        "Y = Y.to_numpy()\n",
        "Y"
      ],
      "metadata": {
        "colab": {
          "base_uri": "https://localhost:8080/"
        },
        "id": "X9AFeZpl-LuM",
        "outputId": "44bb837b-c948-4285-b8f3-0ac5bb907a14"
      },
      "execution_count": 49,
      "outputs": [
        {
          "output_type": "execute_result",
          "data": {
            "text/plain": [
              "array([ 1,  1,  1, ...,  0,  1, -1])"
            ]
          },
          "metadata": {},
          "execution_count": 49
        }
      ]
    },
    {
      "cell_type": "code",
      "source": [
        "Y.shape"
      ],
      "metadata": {
        "colab": {
          "base_uri": "https://localhost:8080/"
        },
        "id": "11-m-ivg-i92",
        "outputId": "b4720d7d-ecbf-4247-c609-b9a332593b3a"
      },
      "execution_count": 50,
      "outputs": [
        {
          "output_type": "execute_result",
          "data": {
            "text/plain": [
              "(4387,)"
            ]
          },
          "metadata": {},
          "execution_count": 50
        }
      ]
    },
    {
      "cell_type": "code",
      "execution_count": 51,
      "metadata": {
        "id": "7Lt9VUFCU0Uw"
      },
      "outputs": [],
      "source": [
        "with open('model_vect.pickle', mode='wb') as f:\n",
        "   vec = pickle.dump(vectorizer,f,protocol=2)"
      ]
    },
    {
      "cell_type": "markdown",
      "metadata": {
        "id": "wtmT9d_QrFM0"
      },
      "source": [
        "## Splitting into Training and Test sets"
      ]
    },
    {
      "cell_type": "code",
      "execution_count": 52,
      "metadata": {
        "id": "dK8rVC1_PmSZ"
      },
      "outputs": [],
      "source": [
        "X_train, X_test, y_train, y_test = train_test_split(X, Y, test_size = 0.2, random_state = 0)"
      ]
    },
    {
      "cell_type": "markdown",
      "metadata": {
        "id": "1y5qvFq6JJZ3"
      },
      "source": [
        "## Apply NB model"
      ]
    },
    {
      "cell_type": "code",
      "execution_count": 53,
      "metadata": {
        "id": "4sEKiVfEJNvz"
      },
      "outputs": [],
      "source": [
        "classifier = GaussianNB()"
      ]
    },
    {
      "cell_type": "code",
      "execution_count": 54,
      "metadata": {
        "colab": {
          "base_uri": "https://localhost:8080/"
        },
        "id": "sBPM4phmJgY3",
        "outputId": "ecdb201b-e261-4042-86ac-728e3d1b517f"
      },
      "outputs": [
        {
          "output_type": "execute_result",
          "data": {
            "text/plain": [
              "GaussianNB()"
            ]
          },
          "metadata": {},
          "execution_count": 54
        }
      ],
      "source": [
        "classifier.fit(X_train, y_train)"
      ]
    },
    {
      "cell_type": "code",
      "execution_count": 55,
      "metadata": {
        "colab": {
          "base_uri": "https://localhost:8080/"
        },
        "id": "iGxKX3XnU1zl",
        "outputId": "dc23faa1-c957-49f9-ebb6-c897aedba49b"
      },
      "outputs": [
        {
          "output_type": "execute_result",
          "data": {
            "text/plain": [
              "20.946138500997435"
            ]
          },
          "metadata": {},
          "execution_count": 55
        }
      ],
      "source": [
        "x_pred_NB = classifier.predict(X_train)\n",
        "#Train Accuracy\n",
        "acc_tr_NB = accuracy_score(y_train, x_pred_NB)\n",
        "acc_tr_NB * 100"
      ]
    },
    {
      "cell_type": "code",
      "execution_count": 56,
      "metadata": {
        "id": "7rTk1bI4JQk_"
      },
      "outputs": [],
      "source": [
        "y_pred_NB = classifier.predict(X_test)\n",
        "#y_pred_NB"
      ]
    },
    {
      "cell_type": "code",
      "execution_count": 57,
      "metadata": {
        "colab": {
          "base_uri": "https://localhost:8080/"
        },
        "id": "HdHllrmirQTo",
        "outputId": "893d9ee1-a2eb-4b7c-dbcb-67c59c0a16a8"
      },
      "outputs": [
        {
          "output_type": "execute_result",
          "data": {
            "text/plain": [
              "20.842824601366743"
            ]
          },
          "metadata": {},
          "execution_count": 57
        }
      ],
      "source": [
        "#Test Accuracy\n",
        "acc_t_NB = accuracy_score(y_test, y_pred_NB)\n",
        "acc_t_NB * 100"
      ]
    },
    {
      "cell_type": "code",
      "execution_count": null,
      "metadata": {
        "id": "LOvWZ8lnbAFz"
      },
      "outputs": [],
      "source": [
        "with open('model.pickle', mode='wb') as f:\n",
        "    pickle.dump(classifier,f,protocol=2)"
      ]
    },
    {
      "cell_type": "markdown",
      "metadata": {
        "id": "WeAIkqdVncwE"
      },
      "source": [
        "## Decision Tree\n"
      ]
    },
    {
      "cell_type": "code",
      "execution_count": 58,
      "metadata": {
        "id": "CW8_6Rqnnf6N"
      },
      "outputs": [],
      "source": [
        "classifier1 = DecisionTreeClassifier(criterion = 'entropy', random_state = 0)"
      ]
    },
    {
      "cell_type": "code",
      "execution_count": 59,
      "metadata": {
        "id": "bhorhnhIngjR"
      },
      "outputs": [],
      "source": [
        "history = classifier1.fit(X_train, y_train)"
      ]
    },
    {
      "cell_type": "code",
      "execution_count": 60,
      "metadata": {
        "colab": {
          "base_uri": "https://localhost:8080/"
        },
        "id": "XSXe6uIfWgwU",
        "outputId": "b0cb3cc2-7ebc-4078-8d5b-362fb91e97c9"
      },
      "outputs": [
        {
          "output_type": "execute_result",
          "data": {
            "text/plain": [
              "73.69620974636648"
            ]
          },
          "metadata": {},
          "execution_count": 60
        }
      ],
      "source": [
        "#Prediction of training\n",
        "Y_pred_DT = classifier1.predict(X_train)\n",
        "#Train Accuracy\n",
        "acc_tr_DT = accuracy_score(y_train, Y_pred_DT)\n",
        "acc_tr_DT * 100"
      ]
    },
    {
      "cell_type": "code",
      "execution_count": 61,
      "metadata": {
        "id": "akf3RFEOngg2"
      },
      "outputs": [],
      "source": [
        "y_pred_DT = classifier1.predict(X_test)\n",
        "#y_pred_DT"
      ]
    },
    {
      "cell_type": "code",
      "execution_count": 62,
      "metadata": {
        "colab": {
          "base_uri": "https://localhost:8080/"
        },
        "id": "GI3STn1_6q8S",
        "outputId": "246364f4-b505-4bfe-ebeb-946b4c5e5482"
      },
      "outputs": [
        {
          "output_type": "execute_result",
          "data": {
            "text/plain": [
              "67.65375854214123"
            ]
          },
          "metadata": {},
          "execution_count": 62
        }
      ],
      "source": [
        "accuracy_T = accuracy_score(y_test, y_pred_DT)\n",
        "accuracy_T * 100"
      ]
    },
    {
      "cell_type": "markdown",
      "metadata": {
        "id": "POpLaNxBjGSX"
      },
      "source": [
        "## Random forest"
      ]
    },
    {
      "cell_type": "code",
      "execution_count": 63,
      "metadata": {
        "id": "APsMLkX1jMVq"
      },
      "outputs": [],
      "source": [
        "classifier2 = RandomForestClassifier()"
      ]
    },
    {
      "cell_type": "code",
      "execution_count": 64,
      "metadata": {
        "colab": {
          "base_uri": "https://localhost:8080/"
        },
        "id": "8FwTvlvXjMTI",
        "outputId": "814bbb94-dd63-4f41-db79-2014a50a73e8"
      },
      "outputs": [
        {
          "output_type": "execute_result",
          "data": {
            "text/plain": [
              "RandomForestClassifier()"
            ]
          },
          "metadata": {},
          "execution_count": 64
        }
      ],
      "source": [
        "classifier2.fit(X_train, y_train)"
      ]
    },
    {
      "cell_type": "code",
      "execution_count": 65,
      "metadata": {
        "id": "1AlJ6tL-jMQl"
      },
      "outputs": [],
      "source": [
        "y_pred_RD = classifier2.predict(X_test)\n",
        "#y_pred_RD"
      ]
    },
    {
      "cell_type": "code",
      "execution_count": 66,
      "metadata": {
        "colab": {
          "base_uri": "https://localhost:8080/"
        },
        "id": "w_bV2A3vkUs-",
        "outputId": "db2419f0-1fbd-496e-cb59-e541eb5c4231"
      },
      "outputs": [
        {
          "output_type": "execute_result",
          "data": {
            "text/plain": [
              "68.10933940774487"
            ]
          },
          "metadata": {},
          "execution_count": 66
        }
      ],
      "source": [
        "accuracy_RD = accuracy_score(y_test, y_pred_RD)\n",
        "accuracy_RD * 100"
      ]
    },
    {
      "cell_type": "code",
      "execution_count": 67,
      "metadata": {
        "id": "hBH25ezRD88_"
      },
      "outputs": [],
      "source": [
        "with open('modelRD.pickle', mode='wb') as f:\n",
        "    pickle.dump(classifier2,f,protocol=2)"
      ]
    },
    {
      "cell_type": "markdown",
      "metadata": {
        "id": "eskOlknrtghb"
      },
      "source": [
        "## SVC"
      ]
    },
    {
      "cell_type": "code",
      "execution_count": 68,
      "metadata": {
        "id": "k2fcTgmPtk4P"
      },
      "outputs": [],
      "source": [
        "from sklearn import svm\n",
        "from sklearn.svm import SVC\n",
        "\n",
        "classifier3 = SVC(kernel='linear')"
      ]
    },
    {
      "cell_type": "code",
      "execution_count": 69,
      "metadata": {
        "colab": {
          "base_uri": "https://localhost:8080/"
        },
        "id": "WJgYL6SItk0V",
        "outputId": "54b3ebda-507b-4a9c-edcc-f1586b09fbec"
      },
      "outputs": [
        {
          "output_type": "execute_result",
          "data": {
            "text/plain": [
              "SVC(kernel='linear')"
            ]
          },
          "metadata": {},
          "execution_count": 69
        }
      ],
      "source": [
        "classifier3.fit(X_train, y_train)"
      ]
    },
    {
      "cell_type": "code",
      "execution_count": 70,
      "metadata": {
        "id": "CSie5i_F5Y5D"
      },
      "outputs": [],
      "source": [
        "y_pred_svc = classifier3.predict(X_test)\n",
        "#y_pred_svc"
      ]
    },
    {
      "cell_type": "code",
      "execution_count": 71,
      "metadata": {
        "colab": {
          "base_uri": "https://localhost:8080/"
        },
        "id": "z-dILKz36GXe",
        "outputId": "6f1f6985-2463-4dce-85f6-30c0eabb772f"
      },
      "outputs": [
        {
          "output_type": "stream",
          "name": "stdout",
          "text": [
            "67.53986332574033\n"
          ]
        }
      ],
      "source": [
        "from sklearn.metrics import accuracy_score\n",
        "accuracy_svc = accuracy_score(y_test, y_pred_svc)\n",
        "print(accuracy_svc * 100)"
      ]
    },
    {
      "cell_type": "code",
      "execution_count": 72,
      "metadata": {
        "id": "XwgwafwvcMVz"
      },
      "outputs": [],
      "source": [
        "with open('modelsvc.pickle', mode='wb') as f:\n",
        "    pickle.dump(classifier3,f,protocol=2)"
      ]
    },
    {
      "cell_type": "markdown",
      "metadata": {
        "id": "WfEJEiZon1-0"
      },
      "source": [
        "## Logistique regression "
      ]
    },
    {
      "cell_type": "code",
      "execution_count": 73,
      "metadata": {
        "id": "Z2oGJC9Vn5Da"
      },
      "outputs": [],
      "source": [
        "classifier4 = LogisticRegression(random_state=0)"
      ]
    },
    {
      "cell_type": "code",
      "execution_count": 74,
      "metadata": {
        "colab": {
          "base_uri": "https://localhost:8080/"
        },
        "id": "RsdvSYx0n73q",
        "outputId": "22431384-b43a-457f-aa01-ceca89084f9d"
      },
      "outputs": [
        {
          "output_type": "execute_result",
          "data": {
            "text/plain": [
              "LogisticRegression(random_state=0)"
            ]
          },
          "metadata": {},
          "execution_count": 74
        }
      ],
      "source": [
        "classifier4.fit(X_train, y_train)"
      ]
    },
    {
      "cell_type": "code",
      "execution_count": 75,
      "metadata": {
        "id": "qptxzpD2oK2j"
      },
      "outputs": [],
      "source": [
        "y_pred_LR = classifier4.predict(X_test)\n",
        "#y_pred_LR"
      ]
    },
    {
      "cell_type": "code",
      "execution_count": 76,
      "metadata": {
        "colab": {
          "base_uri": "https://localhost:8080/"
        },
        "id": "tSW76ARuoUoJ",
        "outputId": "8f1e17ad-0184-4ede-f840-bc892416a4a9"
      },
      "outputs": [
        {
          "output_type": "stream",
          "name": "stdout",
          "text": [
            "68.56492027334852\n"
          ]
        }
      ],
      "source": [
        "accuracy_LR = accuracy_score(y_test, y_pred_LR)\n",
        "print(accuracy_LR * 100)"
      ]
    },
    {
      "cell_type": "code",
      "source": [
        "with open('modelRL.pickle', mode='wb') as f:\n",
        "    pickle.dump(classifier4,f,protocol=2)"
      ],
      "metadata": {
        "id": "ZuWLRbpw_OCD"
      },
      "execution_count": 84,
      "outputs": []
    },
    {
      "cell_type": "markdown",
      "metadata": {
        "id": "q2ylV8Y_nuOW"
      },
      "source": [
        "## Comparing Accuracies between Algorithms"
      ]
    },
    {
      "cell_type": "code",
      "execution_count": 77,
      "metadata": {
        "colab": {
          "base_uri": "https://localhost:8080/",
          "height": 282
        },
        "id": "gPpsIS_Xnsuz",
        "outputId": "f11d8df1-a6d8-463a-f11c-823406f38864"
      },
      "outputs": [
        {
          "output_type": "display_data",
          "data": {
            "text/plain": [
              "<Figure size 432x288 with 1 Axes>"
            ],
            "image/png": "[encoded data removed]"
          },
          "metadata": {
            "needs_background": "light"
          }
        }
      ],
      "source": [
        "\n",
        "Accuracy = [acc_t_NB, accuracy_T, accuracy_RD, accuracy_svc, accuracy_LR]\n",
        "Methods = ['Random_F', 'Decision_T', 'Naive_B', 'SVC', 'Linear_R']\n",
        "Accuracy_pos = np.arange(len(Methods))\n",
        "acc = np.arange(5)\n",
        "########\n",
        "plt.bar(Accuracy_pos, Accuracy)\n",
        "plt.xticks(acc, Methods)\n",
        "plt.title('comparing the accuracy of each model')\n",
        "plt.show()"
      ]
    },
    {
      "cell_type": "markdown",
      "metadata": {
        "id": "6frirJWrGoyx"
      },
      "source": [
        "## Input"
      ]
    },
    {
      "cell_type": "code",
      "execution_count": 78,
      "metadata": {
        "colab": {
          "base_uri": "https://localhost:8080/"
        },
        "id": "owjhoZOrGr2Q",
        "outputId": "d075bd4b-3c60-40c2-f826-b286d84f07ca"
      },
      "outputs": [
        {
          "name": "stdout",
          "output_type": "stream",
          "text": [
            "دخل الكمونتير :ضرك  نتا # كي ترووح...% من بعد سهل\n"
          ]
        }
      ],
      "source": [
        "jomla = input(\"دخل الكمونتير :\")"
      ]
    },
    {
      "cell_type": "code",
      "execution_count": 79,
      "metadata": {
        "colab": {
          "base_uri": "https://localhost:8080/",
          "height": 35
        },
        "id": "fxh2Qth_OVAc",
        "outputId": "1fb1ade8-1659-4bc2-d6c4-124ae990b76b"
      },
      "outputs": [
        {
          "output_type": "execute_result",
          "data": {
            "text/plain": [
              "'ضرك  نتا # كي ترووح...% من بعد سهل'"
            ],
            "application/vnd.google.colaboratory.intrinsic+json": {
              "type": "string"
            }
          },
          "metadata": {},
          "execution_count": 79
        }
      ],
      "source": [
        "jomla"
      ]
    },
    {
      "cell_type": "code",
      "execution_count": null,
      "metadata": {
        "id": "hedFw67ebry0"
      },
      "outputs": [],
      "source": [
        "#open model NB\n",
        "with open('model.pickle', mode='rb') as f:\n",
        "    classifier = pickle.load(f)"
      ]
    },
    {
      "cell_type": "code",
      "execution_count": 81,
      "metadata": {
        "id": "b2zlV-4jEKMP"
      },
      "outputs": [],
      "source": [
        "#open model RD\n",
        "with open('modelRD.pickle', mode='rb') as f:\n",
        "    classifier2 = pickle.load(f)"
      ]
    },
    {
      "cell_type": "code",
      "execution_count": 82,
      "metadata": {
        "id": "VuI2DinpcczP"
      },
      "outputs": [],
      "source": [
        "#open model SVC\n",
        "with open('modelsvc.pickle', mode='rb') as f:\n",
        "    classifier30 = pickle.load(f)"
      ]
    },
    {
      "cell_type": "code",
      "source": [
        "#open model RL\n",
        "with open('modelRL.pickle', mode='rb') as f:\n",
        "    classifier4 = pickle.load(f)"
      ],
      "metadata": {
        "id": "k_p_CDlj_cTn"
      },
      "execution_count": 85,
      "outputs": []
    },
    {
      "cell_type": "code",
      "execution_count": 86,
      "metadata": {
        "id": "L8aBlt_Ebx9N"
      },
      "outputs": [],
      "source": [
        "def preprocess (sent):\n",
        "\n",
        "    sent = remove_d(sent)\n",
        "    sent = normalize(sent)\n",
        "    sent = remove_e_w_s(sent)\n",
        "    sent = remove_symboles(sent)\n",
        "    sent = token(sent)\n",
        "    sent = remove_stopwords(sent)\n",
        "    sent = Alg_stopwords(sent)\n",
        "    sent = light_stem(sent)\n",
        "    return sent"
      ]
    },
    {
      "cell_type": "code",
      "execution_count": 87,
      "metadata": {
        "colab": {
          "base_uri": "https://localhost:8080/",
          "height": 35
        },
        "id": "M4qO254yNkPO",
        "outputId": "4fbe7026-dc1d-46dc-b7ef-f26b4c4225d9"
      },
      "outputs": [
        {
          "output_type": "execute_result",
          "data": {
            "text/plain": [
              "'تروح سهل'"
            ],
            "application/vnd.google.colaboratory.intrinsic+json": {
              "type": "string"
            }
          },
          "metadata": {},
          "execution_count": 87
        }
      ],
      "source": [
        "preprocess (jomla)"
      ]
    },
    {
      "cell_type": "code",
      "execution_count": null,
      "metadata": {
        "id": "gCoaZt6Ki_76"
      },
      "outputs": [],
      "source": [
        "    df = pd.read_csv(StringIO(jomla))\n",
        "    X= vectorizer.transform(df)\n",
        "    X = X.toarray()\n",
        " "
      ]
    },
    {
      "cell_type": "code",
      "execution_count": null,
      "metadata": {
        "colab": {
          "base_uri": "https://localhost:8080/"
        },
        "id": "W7FUPV-6f4yr",
        "outputId": "fdf76f74-64fe-4391-ebbf-7e12f3c254a3"
      },
      "outputs": [
        {
          "data": {
            "text/plain": [
              "array([[0, 0, 0, ..., 0, 0, 0]])"
            ]
          },
          "execution_count": 162,
          "metadata": {},
          "output_type": "execute_result"
        }
      ],
      "source": [
        "#txt_repr (jomla)\n"
      ]
    },
    {
      "cell_type": "code",
      "execution_count": null,
      "metadata": {
        "id": "n_GL3octf4ud"
      },
      "outputs": [],
      "source": [
        "#opply model SVC\n",
        "ans = classifier30.predict(X)"
      ]
    },
    {
      "cell_type": "code",
      "execution_count": null,
      "metadata": {
        "id": "iW7oKn4lEbNk"
      },
      "outputs": [],
      "source": [
        "ans1 = classifier2.predict(X)"
      ]
    },
    {
      "cell_type": "code",
      "execution_count": null,
      "metadata": {
        "colab": {
          "base_uri": "https://localhost:8080/"
        },
        "id": "Rv8Z8G1FrNiS",
        "outputId": "db8284c3-ee2b-4cb8-db6e-bf2126da1e13"
      },
      "outputs": [
        {
          "data": {
            "text/plain": [
              "array([-1])"
            ]
          },
          "execution_count": 176,
          "metadata": {},
          "output_type": "execute_result"
        }
      ],
      "source": [
        "ans"
      ]
    },
    {
      "cell_type": "code",
      "execution_count": null,
      "metadata": {
        "id": "1JNKCgUK9146"
      },
      "outputs": [],
      "source": [
        "def result (anss):\n",
        "  if ans[0] == 1:\n",
        "    print('ur cmnt is pos')\n",
        "  elif ans[0] == -1:\n",
        "    print('ur cmnt is neg')\n",
        "  else:\n",
        "    print('ur cmnt is neutral')"
      ]
    },
    {
      "cell_type": "code",
      "execution_count": null,
      "metadata": {
        "colab": {
          "base_uri": "https://localhost:8080/"
        },
        "id": "KessFW6j-XmC",
        "outputId": "7e9dff43-7c08-4180-d304-4bb40a40d36e"
      },
      "outputs": [
        {
          "name": "stdout",
          "output_type": "stream",
          "text": [
            "ur cmnt is neg\n"
          ]
        }
      ],
      "source": [
        "result (ans)"
      ]
    },
    {
      "cell_type": "code",
      "execution_count": null,
      "metadata": {
        "colab": {
          "base_uri": "https://localhost:8080/"
        },
        "id": "9-LndondtGuu",
        "outputId": "fdfb7a4f-8003-4c39-db9e-09beac02a48a"
      },
      "outputs": [
        {
          "name": "stdout",
          "output_type": "stream",
          "text": [
            "ur cmnt is pos\n"
          ]
        }
      ],
      "source": [
        "if ans[0] == 1:\n",
        "  print('ur cmnt is pos')\n",
        "elif ans[0] == -1:\n",
        "  print('ur cmnt is neg')\n",
        "else:\n",
        "  print('ur cmnt is neutral')"
      ]
    },
    {
      "cell_type": "code",
      "execution_count": null,
      "metadata": {
        "id": "dPWzhB258yDZ"
      },
      "outputs": [],
      "source": [
        ""
      ]
    },
    {
      "cell_type": "markdown",
      "metadata": {
        "id": "EPN_Fa4l9Y-o"
      },
      "source": [
        ""
      ]
    },
    {
      "cell_type": "code",
      "execution_count": null,
      "metadata": {
        "id": "eOSenm8q9ZYA"
      },
      "outputs": [],
      "source": [
        ""
      ]
    }
  ],
  "metadata": {
    "colab": {
      "collapsed_sections": [
        "DKckJtxFKPBa",
        "HUBIoBo7eKhR",
        "ZTB7uvMVPtMs",
        "i4W4P69ib-vG",
        "9IGyxJJiijp8",
        "6frirJWrGoyx"
      ],
      "name": "pfe.ipynb",
      "provenance": []
    },
    "kernelspec": {
      "display_name": "Python 3",
      "name": "python3"
    },
    "language_info": {
      "name": "python"
    }
  },
  "nbformat": 4,
  "nbformat_minor": 0
}